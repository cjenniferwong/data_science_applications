{
 "cells": [
  {
   "cell_type": "markdown",
   "metadata": {},
   "source": [
    "# Jenn Wong\n",
    "jennwong@berkeley.edu"
   ]
  },
  {
   "cell_type": "markdown",
   "metadata": {},
   "source": [
    "Data was gathered from Everlane Mode SQL database from running\n",
    "\n",
    "select * from {database};"
   ]
  },
  {
   "cell_type": "code",
   "execution_count": 160,
   "metadata": {
    "ExecuteTime": {
     "end_time": "2018-11-15T20:31:34.739623Z",
     "start_time": "2018-11-15T20:31:33.277202Z"
    }
   },
   "outputs": [],
   "source": [
    "import pandas as pd\n",
    "from copy import deepcopy\n",
    "import seaborn as sns\n",
    "\n",
    "import warnings\n",
    "warnings.filterwarnings('ignore')"
   ]
  },
  {
   "cell_type": "code",
   "execution_count": 10,
   "metadata": {
    "ExecuteTime": {
     "end_time": "2018-11-15T04:30:56.649317Z",
     "start_time": "2018-11-15T04:30:56.485415Z"
    },
    "collapsed": true
   },
   "outputs": [],
   "source": [
    "users_df = pd.read_csv('users.csv')\n",
    "orders_df = pd.read_csv('orders.csv')\n",
    "products_df = pd.read_csv('products.csv')"
   ]
  },
  {
   "cell_type": "code",
   "execution_count": 11,
   "metadata": {
    "ExecuteTime": {
     "end_time": "2018-11-15T04:30:58.327930Z",
     "start_time": "2018-11-15T04:30:58.316213Z"
    }
   },
   "outputs": [
    {
     "data": {
      "text/html": [
       "<div>\n",
       "<style scoped>\n",
       "    .dataframe tbody tr th:only-of-type {\n",
       "        vertical-align: middle;\n",
       "    }\n",
       "\n",
       "    .dataframe tbody tr th {\n",
       "        vertical-align: top;\n",
       "    }\n",
       "\n",
       "    .dataframe thead th {\n",
       "        text-align: right;\n",
       "    }\n",
       "</style>\n",
       "<table border=\"1\" class=\"dataframe\">\n",
       "  <thead>\n",
       "    <tr style=\"text-align: right;\">\n",
       "      <th></th>\n",
       "      <th>user_id</th>\n",
       "      <th>discovery_channel_category</th>\n",
       "      <th>discovery_channel</th>\n",
       "      <th>discovery_time</th>\n",
       "      <th>discovery_platform</th>\n",
       "      <th>location</th>\n",
       "      <th>gender</th>\n",
       "    </tr>\n",
       "  </thead>\n",
       "  <tbody>\n",
       "    <tr>\n",
       "      <th>0</th>\n",
       "      <td>1957598</td>\n",
       "      <td>paid</td>\n",
       "      <td>other</td>\n",
       "      <td>2017-05-10 07:23:23</td>\n",
       "      <td>desktop</td>\n",
       "      <td>US</td>\n",
       "      <td>female</td>\n",
       "    </tr>\n",
       "    <tr>\n",
       "      <th>1</th>\n",
       "      <td>1771115</td>\n",
       "      <td>paid</td>\n",
       "      <td>affiliate</td>\n",
       "      <td>2017-02-15 16:33:02</td>\n",
       "      <td>mobile</td>\n",
       "      <td>US</td>\n",
       "      <td>female</td>\n",
       "    </tr>\n",
       "    <tr>\n",
       "      <th>2</th>\n",
       "      <td>1489936</td>\n",
       "      <td>direct</td>\n",
       "      <td>NaN</td>\n",
       "      <td>2016-09-13 16:07:53</td>\n",
       "      <td>desktop</td>\n",
       "      <td>US</td>\n",
       "      <td>female</td>\n",
       "    </tr>\n",
       "    <tr>\n",
       "      <th>3</th>\n",
       "      <td>2356025</td>\n",
       "      <td>paid</td>\n",
       "      <td>search</td>\n",
       "      <td>2017-10-12 17:13:53</td>\n",
       "      <td>desktop</td>\n",
       "      <td>US</td>\n",
       "      <td>female</td>\n",
       "    </tr>\n",
       "    <tr>\n",
       "      <th>4</th>\n",
       "      <td>1463297</td>\n",
       "      <td>organic search</td>\n",
       "      <td>NaN</td>\n",
       "      <td>2016-08-17 07:06:25</td>\n",
       "      <td>desktop</td>\n",
       "      <td>international</td>\n",
       "      <td>female</td>\n",
       "    </tr>\n",
       "  </tbody>\n",
       "</table>\n",
       "</div>"
      ],
      "text/plain": [
       "   user_id discovery_channel_category discovery_channel       discovery_time  \\\n",
       "0  1957598                       paid             other  2017-05-10 07:23:23   \n",
       "1  1771115                       paid         affiliate  2017-02-15 16:33:02   \n",
       "2  1489936                     direct               NaN  2016-09-13 16:07:53   \n",
       "3  2356025                       paid            search  2017-10-12 17:13:53   \n",
       "4  1463297             organic search               NaN  2016-08-17 07:06:25   \n",
       "\n",
       "  discovery_platform       location  gender  \n",
       "0            desktop             US  female  \n",
       "1             mobile             US  female  \n",
       "2            desktop             US  female  \n",
       "3            desktop             US  female  \n",
       "4            desktop  international  female  "
      ]
     },
     "execution_count": 11,
     "metadata": {},
     "output_type": "execute_result"
    }
   ],
   "source": [
    "users_df.head()"
   ]
  },
  {
   "cell_type": "code",
   "execution_count": 87,
   "metadata": {
    "ExecuteTime": {
     "end_time": "2018-11-15T05:22:51.547564Z",
     "start_time": "2018-11-15T05:22:51.522403Z"
    }
   },
   "outputs": [
    {
     "data": {
      "text/html": [
       "<div>\n",
       "<style scoped>\n",
       "    .dataframe tbody tr th:only-of-type {\n",
       "        vertical-align: middle;\n",
       "    }\n",
       "\n",
       "    .dataframe tbody tr th {\n",
       "        vertical-align: top;\n",
       "    }\n",
       "\n",
       "    .dataframe thead th {\n",
       "        text-align: right;\n",
       "    }\n",
       "</style>\n",
       "<table border=\"1\" class=\"dataframe\">\n",
       "  <thead>\n",
       "    <tr style=\"text-align: right;\">\n",
       "      <th></th>\n",
       "      <th>line_item_id</th>\n",
       "      <th>order_id</th>\n",
       "      <th>completed_at</th>\n",
       "      <th>user_id</th>\n",
       "      <th>quantity</th>\n",
       "      <th>price</th>\n",
       "      <th>style_id</th>\n",
       "      <th>order_channel</th>\n",
       "      <th>order_channel_category</th>\n",
       "    </tr>\n",
       "  </thead>\n",
       "  <tbody>\n",
       "    <tr>\n",
       "      <th>0</th>\n",
       "      <td>14134747</td>\n",
       "      <td>2874138</td>\n",
       "      <td>2016-12-29 14:54:22</td>\n",
       "      <td>1444626</td>\n",
       "      <td>1</td>\n",
       "      <td>25.0</td>\n",
       "      <td>447</td>\n",
       "      <td>other</td>\n",
       "      <td>paid</td>\n",
       "    </tr>\n",
       "    <tr>\n",
       "      <th>1</th>\n",
       "      <td>17240079</td>\n",
       "      <td>3506498</td>\n",
       "      <td>2017-09-05 19:00:51</td>\n",
       "      <td>1125825</td>\n",
       "      <td>1</td>\n",
       "      <td>68.0</td>\n",
       "      <td>944</td>\n",
       "      <td>search</td>\n",
       "      <td>paid</td>\n",
       "    </tr>\n",
       "    <tr>\n",
       "      <th>2</th>\n",
       "      <td>20017564</td>\n",
       "      <td>4020991</td>\n",
       "      <td>2017-12-27 17:41:00</td>\n",
       "      <td>2521400</td>\n",
       "      <td>1</td>\n",
       "      <td>88.0</td>\n",
       "      <td>890</td>\n",
       "      <td>search</td>\n",
       "      <td>paid</td>\n",
       "    </tr>\n",
       "    <tr>\n",
       "      <th>3</th>\n",
       "      <td>19281489</td>\n",
       "      <td>3858476</td>\n",
       "      <td>2017-12-01 18:53:11</td>\n",
       "      <td>2222476</td>\n",
       "      <td>1</td>\n",
       "      <td>62.0</td>\n",
       "      <td>640</td>\n",
       "      <td>other</td>\n",
       "      <td>paid</td>\n",
       "    </tr>\n",
       "    <tr>\n",
       "      <th>4</th>\n",
       "      <td>15018380</td>\n",
       "      <td>3047663</td>\n",
       "      <td>2017-03-26 15:38:13</td>\n",
       "      <td>1854949</td>\n",
       "      <td>1</td>\n",
       "      <td>100.0</td>\n",
       "      <td>650</td>\n",
       "      <td>affiliate</td>\n",
       "      <td>paid</td>\n",
       "    </tr>\n",
       "  </tbody>\n",
       "</table>\n",
       "</div>"
      ],
      "text/plain": [
       "   line_item_id  order_id        completed_at  user_id  quantity  price  \\\n",
       "0      14134747   2874138 2016-12-29 14:54:22  1444626         1   25.0   \n",
       "1      17240079   3506498 2017-09-05 19:00:51  1125825         1   68.0   \n",
       "2      20017564   4020991 2017-12-27 17:41:00  2521400         1   88.0   \n",
       "3      19281489   3858476 2017-12-01 18:53:11  2222476         1   62.0   \n",
       "4      15018380   3047663 2017-03-26 15:38:13  1854949         1  100.0   \n",
       "\n",
       "   style_id order_channel order_channel_category  \n",
       "0       447         other                   paid  \n",
       "1       944        search                   paid  \n",
       "2       890        search                   paid  \n",
       "3       640         other                   paid  \n",
       "4       650     affiliate                   paid  "
      ]
     },
     "execution_count": 87,
     "metadata": {},
     "output_type": "execute_result"
    }
   ],
   "source": [
    "orders_df.head()\n",
    "\n",
    "# this is a string and should be date-time for easier analysis\n",
    "orders_df.completed_at = pd.to_datetime(orders_df.completed_at) \n",
    "orders_df.head()"
   ]
  },
  {
   "cell_type": "code",
   "execution_count": 13,
   "metadata": {
    "ExecuteTime": {
     "end_time": "2018-11-15T04:31:03.434170Z",
     "start_time": "2018-11-15T04:31:03.421033Z"
    }
   },
   "outputs": [
    {
     "data": {
      "text/html": [
       "<div>\n",
       "<style scoped>\n",
       "    .dataframe tbody tr th:only-of-type {\n",
       "        vertical-align: middle;\n",
       "    }\n",
       "\n",
       "    .dataframe tbody tr th {\n",
       "        vertical-align: top;\n",
       "    }\n",
       "\n",
       "    .dataframe thead th {\n",
       "        text-align: right;\n",
       "    }\n",
       "</style>\n",
       "<table border=\"1\" class=\"dataframe\">\n",
       "  <thead>\n",
       "    <tr style=\"text-align: right;\">\n",
       "      <th></th>\n",
       "      <th>style_id</th>\n",
       "      <th>style</th>\n",
       "      <th>category</th>\n",
       "      <th>launch_date</th>\n",
       "    </tr>\n",
       "  </thead>\n",
       "  <tbody>\n",
       "    <tr>\n",
       "      <th>0</th>\n",
       "      <td>592</td>\n",
       "      <td>The Premium Wool Flannel Pinstripe Track Pant</td>\n",
       "      <td>Bottoms</td>\n",
       "      <td>2016-09-19 00:00:00</td>\n",
       "    </tr>\n",
       "    <tr>\n",
       "      <th>1</th>\n",
       "      <td>572</td>\n",
       "      <td>The Luxe Drape Cropped Scoop-Neck Tee</td>\n",
       "      <td>Knit Tops</td>\n",
       "      <td>2016-07-26 00:00:00</td>\n",
       "    </tr>\n",
       "    <tr>\n",
       "      <th>2</th>\n",
       "      <td>645</td>\n",
       "      <td>The Cashmere Cardigan</td>\n",
       "      <td>Sweaters</td>\n",
       "      <td>2016-10-10 00:00:00</td>\n",
       "    </tr>\n",
       "    <tr>\n",
       "      <th>3</th>\n",
       "      <td>435</td>\n",
       "      <td>The Modern Flannel Shirt</td>\n",
       "      <td>Shirting</td>\n",
       "      <td>2016-02-25 00:00:00</td>\n",
       "    </tr>\n",
       "    <tr>\n",
       "      <th>4</th>\n",
       "      <td>874</td>\n",
       "      <td>The Pleated Midi Skirt</td>\n",
       "      <td>Bottoms</td>\n",
       "      <td>2017-08-24 00:00:00</td>\n",
       "    </tr>\n",
       "  </tbody>\n",
       "</table>\n",
       "</div>"
      ],
      "text/plain": [
       "   style_id                                          style   category  \\\n",
       "0       592  The Premium Wool Flannel Pinstripe Track Pant    Bottoms   \n",
       "1       572          The Luxe Drape Cropped Scoop-Neck Tee  Knit Tops   \n",
       "2       645                          The Cashmere Cardigan   Sweaters   \n",
       "3       435                       The Modern Flannel Shirt   Shirting   \n",
       "4       874                         The Pleated Midi Skirt    Bottoms   \n",
       "\n",
       "           launch_date  \n",
       "0  2016-09-19 00:00:00  \n",
       "1  2016-07-26 00:00:00  \n",
       "2  2016-10-10 00:00:00  \n",
       "3  2016-02-25 00:00:00  \n",
       "4  2017-08-24 00:00:00  "
      ]
     },
     "execution_count": 13,
     "metadata": {},
     "output_type": "execute_result"
    }
   ],
   "source": [
    "products_df.head()"
   ]
  },
  {
   "cell_type": "code",
   "execution_count": 16,
   "metadata": {
    "ExecuteTime": {
     "end_time": "2018-11-15T04:31:48.480348Z",
     "start_time": "2018-11-15T04:31:48.470162Z"
    }
   },
   "outputs": [
    {
     "name": "stdout",
     "output_type": "stream",
     "text": [
      "<class 'pandas.core.frame.DataFrame'>\n",
      "RangeIndex: 455 entries, 0 to 454\n",
      "Data columns (total 4 columns):\n",
      "style_id       455 non-null int64\n",
      "style          455 non-null object\n",
      "category       455 non-null object\n",
      "launch_date    455 non-null datetime64[ns]\n",
      "dtypes: datetime64[ns](1), int64(1), object(2)\n",
      "memory usage: 14.3+ KB\n"
     ]
    }
   ],
   "source": [
    "products_df.info() # this shows me that I need to change the launch_date column into datetime\n",
    "\n",
    "\n",
    "products_df.launch_date = pd.to_datetime(products_df.launch_date)"
   ]
  },
  {
   "cell_type": "markdown",
   "metadata": {},
   "source": [
    "## Question 1: New Product Launches\n",
    "\n",
    "1. How would you measure the strength of a new product?\n",
    "2. Based on this methodology, how would you summarise the recent trends of Everlane launch performance? Please support your answer with data.\n",
    "3. What are the areas of opportunity when it comes to new launches?\n"
   ]
  },
  {
   "cell_type": "markdown",
   "metadata": {},
   "source": [
    "I will be defining the 'strength' of the new product as number of sales in the first two weeks of launch (because I know that Everlane releases new products every week and constitutes a large part of its revenue). This will allow me to see how it performs as a 'new product' as well as an 'old-er product' and identify seasonal trends (if any) in the week.\n",
    "\n",
    "In order to answer this question, I need to get metadata on the products that were ordered. I will be joining the orders_df with the products_df on 'style_id' in order to get the data that I need."
   ]
  },
  {
   "cell_type": "markdown",
   "metadata": {},
   "source": [
    "Recent 'trends' would be looking at the product and its metadata to evaluate if certain types of items are gaining popularity or something, or maybe something in the orders (discovery channel), or maybe it's the price bin "
   ]
  },
  {
   "cell_type": "code",
   "execution_count": 54,
   "metadata": {
    "ExecuteTime": {
     "end_time": "2018-11-15T04:56:08.948695Z",
     "start_time": "2018-11-15T04:56:08.932575Z"
    },
    "collapsed": true
   },
   "outputs": [],
   "source": [
    "detailed_orders = pd.merge(orders_df, products_df, how = 'left', on  = 'style_id')"
   ]
  },
  {
   "cell_type": "markdown",
   "metadata": {},
   "source": [
    "I could have done this in SQL too with the following query:\n",
    "\n",
    "select * \n",
    "from recruiting.orders o\n",
    "left join recruiting.products p on p.style_id = o.style_id;"
   ]
  },
  {
   "cell_type": "code",
   "execution_count": 121,
   "metadata": {
    "ExecuteTime": {
     "end_time": "2018-11-15T19:45:25.016878Z",
     "start_time": "2018-11-15T19:45:24.612437Z"
    }
   },
   "outputs": [
    {
     "name": "stdout",
     "output_type": "stream",
     "text": [
      "I started with 43548 number of orders. I now have 4327 rows of recent orders\n"
     ]
    },
    {
     "data": {
      "text/html": [
       "<div>\n",
       "<style scoped>\n",
       "    .dataframe tbody tr th:only-of-type {\n",
       "        vertical-align: middle;\n",
       "    }\n",
       "\n",
       "    .dataframe tbody tr th {\n",
       "        vertical-align: top;\n",
       "    }\n",
       "\n",
       "    .dataframe thead th {\n",
       "        text-align: right;\n",
       "    }\n",
       "</style>\n",
       "<table border=\"1\" class=\"dataframe\">\n",
       "  <thead>\n",
       "    <tr style=\"text-align: right;\">\n",
       "      <th></th>\n",
       "      <th>line_item_id</th>\n",
       "      <th>order_id</th>\n",
       "      <th>completed_at</th>\n",
       "      <th>user_id</th>\n",
       "      <th>quantity</th>\n",
       "      <th>price</th>\n",
       "      <th>style_id</th>\n",
       "      <th>order_channel</th>\n",
       "      <th>order_channel_category</th>\n",
       "      <th>style</th>\n",
       "      <th>category</th>\n",
       "      <th>launch_date</th>\n",
       "      <th>time_since_launch</th>\n",
       "      <th>days_since_launch</th>\n",
       "    </tr>\n",
       "  </thead>\n",
       "  <tbody>\n",
       "    <tr>\n",
       "      <th>9</th>\n",
       "      <td>12912030</td>\n",
       "      <td>2563686</td>\n",
       "      <td>2016-10-10 00:34:32</td>\n",
       "      <td>1333122</td>\n",
       "      <td>1</td>\n",
       "      <td>100.0</td>\n",
       "      <td>642</td>\n",
       "      <td>affiliate</td>\n",
       "      <td>paid</td>\n",
       "      <td>The Cashmere Crew</td>\n",
       "      <td>Sweaters</td>\n",
       "      <td>2016-10-03</td>\n",
       "      <td>7 days 00:34:32</td>\n",
       "      <td>7</td>\n",
       "    </tr>\n",
       "    <tr>\n",
       "      <th>29</th>\n",
       "      <td>14599945</td>\n",
       "      <td>2973712</td>\n",
       "      <td>2017-02-15 06:11:10</td>\n",
       "      <td>1769008</td>\n",
       "      <td>1</td>\n",
       "      <td>68.0</td>\n",
       "      <td>715</td>\n",
       "      <td>affiliate</td>\n",
       "      <td>paid</td>\n",
       "      <td>The Wide Leg Crop Pant</td>\n",
       "      <td>Bottoms</td>\n",
       "      <td>2017-02-14</td>\n",
       "      <td>1 days 06:11:10</td>\n",
       "      <td>1</td>\n",
       "    </tr>\n",
       "    <tr>\n",
       "      <th>37</th>\n",
       "      <td>14687198</td>\n",
       "      <td>2989227</td>\n",
       "      <td>2017-02-24 11:59:12</td>\n",
       "      <td>1732638</td>\n",
       "      <td>1</td>\n",
       "      <td>68.0</td>\n",
       "      <td>715</td>\n",
       "      <td>other</td>\n",
       "      <td>paid</td>\n",
       "      <td>The Wide Leg Crop Pant</td>\n",
       "      <td>Bottoms</td>\n",
       "      <td>2017-02-14</td>\n",
       "      <td>10 days 11:59:12</td>\n",
       "      <td>10</td>\n",
       "    </tr>\n",
       "    <tr>\n",
       "      <th>44</th>\n",
       "      <td>16116627</td>\n",
       "      <td>3290378</td>\n",
       "      <td>2017-06-18 05:40:10</td>\n",
       "      <td>656605</td>\n",
       "      <td>1</td>\n",
       "      <td>25.0</td>\n",
       "      <td>934</td>\n",
       "      <td>search</td>\n",
       "      <td>paid</td>\n",
       "      <td>Human Pride Unisex Tank in Double Print</td>\n",
       "      <td>Knit Tops</td>\n",
       "      <td>2017-06-05</td>\n",
       "      <td>13 days 05:40:10</td>\n",
       "      <td>13</td>\n",
       "    </tr>\n",
       "    <tr>\n",
       "      <th>48</th>\n",
       "      <td>18280552</td>\n",
       "      <td>3679979</td>\n",
       "      <td>2017-10-21 17:49:11</td>\n",
       "      <td>2380929</td>\n",
       "      <td>1</td>\n",
       "      <td>155.0</td>\n",
       "      <td>933</td>\n",
       "      <td>search</td>\n",
       "      <td>paid</td>\n",
       "      <td>The Waffle Knit Cashmere Square Crew</td>\n",
       "      <td>Sweaters</td>\n",
       "      <td>2017-10-12</td>\n",
       "      <td>9 days 17:49:11</td>\n",
       "      <td>9</td>\n",
       "    </tr>\n",
       "  </tbody>\n",
       "</table>\n",
       "</div>"
      ],
      "text/plain": [
       "    line_item_id  order_id        completed_at  user_id  quantity  price  \\\n",
       "9       12912030   2563686 2016-10-10 00:34:32  1333122         1  100.0   \n",
       "29      14599945   2973712 2017-02-15 06:11:10  1769008         1   68.0   \n",
       "37      14687198   2989227 2017-02-24 11:59:12  1732638         1   68.0   \n",
       "44      16116627   3290378 2017-06-18 05:40:10   656605         1   25.0   \n",
       "48      18280552   3679979 2017-10-21 17:49:11  2380929         1  155.0   \n",
       "\n",
       "    style_id order_channel order_channel_category  \\\n",
       "9        642     affiliate                   paid   \n",
       "29       715     affiliate                   paid   \n",
       "37       715         other                   paid   \n",
       "44       934        search                   paid   \n",
       "48       933        search                   paid   \n",
       "\n",
       "                                      style   category launch_date  \\\n",
       "9                         The Cashmere Crew   Sweaters  2016-10-03   \n",
       "29                   The Wide Leg Crop Pant    Bottoms  2017-02-14   \n",
       "37                   The Wide Leg Crop Pant    Bottoms  2017-02-14   \n",
       "44  Human Pride Unisex Tank in Double Print  Knit Tops  2017-06-05   \n",
       "48     The Waffle Knit Cashmere Square Crew   Sweaters  2017-10-12   \n",
       "\n",
       "   time_since_launch  days_since_launch  \n",
       "9    7 days 00:34:32                  7  \n",
       "29   1 days 06:11:10                  1  \n",
       "37  10 days 11:59:12                 10  \n",
       "44  13 days 05:40:10                 13  \n",
       "48   9 days 17:49:11                  9  "
      ]
     },
     "execution_count": 121,
     "metadata": {},
     "output_type": "execute_result"
    }
   ],
   "source": [
    "time_period = 14 # this is the number of days after launch that I care about\n",
    "\n",
    "detailed_orders['time_since_launch'] = (detailed_orders.completed_at - detailed_orders.launch_date)\n",
    "\n",
    "\n",
    "# i only care about the days since launch and not such a high resolution\n",
    "def get_days(date_time_object):\n",
    "    \"\"\"\n",
    "    this function takes a datetime object and returns the days\n",
    "    \"\"\"\n",
    "    return date_time_object.days\n",
    "\n",
    "detailed_orders['days_since_launch'] = detailed_orders.time_since_launch.apply(get_days)\n",
    "\n",
    "# I am creating a mask for orders made within the time period i'm interested in.\n",
    "# sanity check, I know that all orders are at least 0 days since launch. there are some errors in the data though... \n",
    "recent_mask = (detailed_orders.days_since_launch <= time_period) & (detailed_orders.days_since_launch >0)\n",
    "\n",
    "new_orders = detailed_orders[recent_mask]\n",
    "\n",
    "print(f'I started with {len(detailed_orders)} number of orders. I now have {len(new_orders)} rows of recent orders')\n",
    "# len(new_orders\n",
    "\n",
    "new_orders.head()"
   ]
  },
  {
   "cell_type": "code",
   "execution_count": 119,
   "metadata": {
    "ExecuteTime": {
     "end_time": "2018-11-15T19:42:46.359777Z",
     "start_time": "2018-11-15T19:42:46.321924Z"
    },
    "scrolled": true
   },
   "outputs": [
    {
     "data": {
      "text/html": [
       "<div>\n",
       "<style scoped>\n",
       "    .dataframe tbody tr th:only-of-type {\n",
       "        vertical-align: middle;\n",
       "    }\n",
       "\n",
       "    .dataframe tbody tr th {\n",
       "        vertical-align: top;\n",
       "    }\n",
       "\n",
       "    .dataframe thead th {\n",
       "        text-align: right;\n",
       "    }\n",
       "</style>\n",
       "<table border=\"1\" class=\"dataframe\">\n",
       "  <thead>\n",
       "    <tr style=\"text-align: right;\">\n",
       "      <th></th>\n",
       "      <th>style_id</th>\n",
       "      <th>total_order_count</th>\n",
       "    </tr>\n",
       "  </thead>\n",
       "  <tbody>\n",
       "    <tr>\n",
       "      <th>0</th>\n",
       "      <td>908</td>\n",
       "      <td>152</td>\n",
       "    </tr>\n",
       "    <tr>\n",
       "      <th>1</th>\n",
       "      <td>887</td>\n",
       "      <td>80</td>\n",
       "    </tr>\n",
       "    <tr>\n",
       "      <th>2</th>\n",
       "      <td>909</td>\n",
       "      <td>73</td>\n",
       "    </tr>\n",
       "    <tr>\n",
       "      <th>3</th>\n",
       "      <td>888</td>\n",
       "      <td>61</td>\n",
       "    </tr>\n",
       "    <tr>\n",
       "      <th>4</th>\n",
       "      <td>642</td>\n",
       "      <td>57</td>\n",
       "    </tr>\n",
       "  </tbody>\n",
       "</table>\n",
       "</div>"
      ],
      "text/plain": [
       "   style_id  total_order_count\n",
       "0       908                152\n",
       "1       887                 80\n",
       "2       909                 73\n",
       "3       888                 61\n",
       "4       642                 57"
      ]
     },
     "execution_count": 119,
     "metadata": {},
     "output_type": "execute_result"
    }
   ],
   "source": [
    "# so now I need to find the count of sales for each day over two weeks after launch for each product\n",
    "sale_count = new_orders.groupby(['style_id', 'days_since_launch']).size().reset_index()\n",
    "sale_count.rename(columns = {\n",
    "    0: 'daily_order_count'\n",
    "}, inplace = True)\n",
    "\n",
    "total_sales = sale_count.groupby('style_id').sum()['daily_order_count']\n",
    "total_sales = deepcopy(total_sales.sort_values(ascending = False)).reset_index()\n",
    "total_sales.rename(columns = {\n",
    "    'daily_order_count': 'total_order_count'\n",
    "}, inplace = True)\n",
    "total_sales.head()\n",
    "# a way to visualize this would be to look at the top n performers and their sales and compare to bottom n\n",
    "\n",
    "\n",
    "# I will take the top n products in terms of total number of sales in the time period and \n"
   ]
  },
  {
   "cell_type": "code",
   "execution_count": 120,
   "metadata": {
    "ExecuteTime": {
     "end_time": "2018-11-15T19:42:46.791830Z",
     "start_time": "2018-11-15T19:42:46.771898Z"
    },
    "scrolled": true
   },
   "outputs": [
    {
     "data": {
      "text/html": [
       "<div>\n",
       "<style scoped>\n",
       "    .dataframe tbody tr th:only-of-type {\n",
       "        vertical-align: middle;\n",
       "    }\n",
       "\n",
       "    .dataframe tbody tr th {\n",
       "        vertical-align: top;\n",
       "    }\n",
       "\n",
       "    .dataframe thead th {\n",
       "        text-align: right;\n",
       "    }\n",
       "</style>\n",
       "<table border=\"1\" class=\"dataframe\">\n",
       "  <thead>\n",
       "    <tr style=\"text-align: right;\">\n",
       "      <th></th>\n",
       "      <th>style_id</th>\n",
       "      <th>total_order_count</th>\n",
       "      <th>style</th>\n",
       "      <th>category</th>\n",
       "      <th>launch_date</th>\n",
       "    </tr>\n",
       "  </thead>\n",
       "  <tbody>\n",
       "    <tr>\n",
       "      <th>0</th>\n",
       "      <td>908</td>\n",
       "      <td>152</td>\n",
       "      <td>The High-Rise Skinny Jean (Ankle)</td>\n",
       "      <td>Denim</td>\n",
       "      <td>2017-09-07</td>\n",
       "    </tr>\n",
       "    <tr>\n",
       "      <th>1</th>\n",
       "      <td>887</td>\n",
       "      <td>80</td>\n",
       "      <td>The Square Mockneck Tee</td>\n",
       "      <td>Knit Tops</td>\n",
       "      <td>2017-08-28</td>\n",
       "    </tr>\n",
       "    <tr>\n",
       "      <th>2</th>\n",
       "      <td>909</td>\n",
       "      <td>73</td>\n",
       "      <td>The Mid-Rise Skinny Jean (Ankle)</td>\n",
       "      <td>Denim</td>\n",
       "      <td>2017-09-07</td>\n",
       "    </tr>\n",
       "    <tr>\n",
       "      <th>3</th>\n",
       "      <td>888</td>\n",
       "      <td>61</td>\n",
       "      <td>The Square Tee</td>\n",
       "      <td>Knit Tops</td>\n",
       "      <td>2017-08-28</td>\n",
       "    </tr>\n",
       "    <tr>\n",
       "      <th>4</th>\n",
       "      <td>642</td>\n",
       "      <td>57</td>\n",
       "      <td>The Cashmere Crew</td>\n",
       "      <td>Sweaters</td>\n",
       "      <td>2016-10-03</td>\n",
       "    </tr>\n",
       "    <tr>\n",
       "      <th>5</th>\n",
       "      <td>862</td>\n",
       "      <td>55</td>\n",
       "      <td>The Cotton Box-Cut Tee Dress</td>\n",
       "      <td>Knit Dresses</td>\n",
       "      <td>2017-06-23</td>\n",
       "    </tr>\n",
       "    <tr>\n",
       "      <th>6</th>\n",
       "      <td>923</td>\n",
       "      <td>54</td>\n",
       "      <td>The Long Puffer Jacket</td>\n",
       "      <td>Outerwear</td>\n",
       "      <td>2017-11-06</td>\n",
       "    </tr>\n",
       "    <tr>\n",
       "      <th>7</th>\n",
       "      <td>954</td>\n",
       "      <td>53</td>\n",
       "      <td>The Oversized Blazer</td>\n",
       "      <td>Outerwear</td>\n",
       "      <td>2017-10-31</td>\n",
       "    </tr>\n",
       "    <tr>\n",
       "      <th>8</th>\n",
       "      <td>869</td>\n",
       "      <td>46</td>\n",
       "      <td>The Bridge Sandal</td>\n",
       "      <td>Footwear</td>\n",
       "      <td>2017-06-05</td>\n",
       "    </tr>\n",
       "    <tr>\n",
       "      <th>9</th>\n",
       "      <td>907</td>\n",
       "      <td>44</td>\n",
       "      <td>The Italian GoWeave Easy Pant</td>\n",
       "      <td>Bottoms</td>\n",
       "      <td>2017-09-18</td>\n",
       "    </tr>\n",
       "    <tr>\n",
       "      <th>10</th>\n",
       "      <td>810</td>\n",
       "      <td>41</td>\n",
       "      <td>The Japanese GoWeave Long Slip Dress</td>\n",
       "      <td>Woven Dresses</td>\n",
       "      <td>2017-05-09</td>\n",
       "    </tr>\n",
       "    <tr>\n",
       "      <th>11</th>\n",
       "      <td>921</td>\n",
       "      <td>41</td>\n",
       "      <td>The Lightweight Puffer Jacket</td>\n",
       "      <td>Outerwear</td>\n",
       "      <td>2017-11-06</td>\n",
       "    </tr>\n",
       "    <tr>\n",
       "      <th>12</th>\n",
       "      <td>997</td>\n",
       "      <td>39</td>\n",
       "      <td>The Wool-Cashmere Rib Oversized Turtleneck</td>\n",
       "      <td>Sweaters</td>\n",
       "      <td>2017-11-10</td>\n",
       "    </tr>\n",
       "    <tr>\n",
       "      <th>13</th>\n",
       "      <td>927</td>\n",
       "      <td>37</td>\n",
       "      <td>The Unisex Winter Parka</td>\n",
       "      <td>Outerwear</td>\n",
       "      <td>2017-11-06</td>\n",
       "    </tr>\n",
       "    <tr>\n",
       "      <th>14</th>\n",
       "      <td>715</td>\n",
       "      <td>36</td>\n",
       "      <td>The Wide Leg Crop Pant</td>\n",
       "      <td>Bottoms</td>\n",
       "      <td>2017-02-14</td>\n",
       "    </tr>\n",
       "    <tr>\n",
       "      <th>15</th>\n",
       "      <td>922</td>\n",
       "      <td>35</td>\n",
       "      <td>The Short Puffer Jacket</td>\n",
       "      <td>Outerwear</td>\n",
       "      <td>2017-11-06</td>\n",
       "    </tr>\n",
       "    <tr>\n",
       "      <th>16</th>\n",
       "      <td>920</td>\n",
       "      <td>35</td>\n",
       "      <td>The Italian GoWeave Classic Blazer</td>\n",
       "      <td>Outerwear</td>\n",
       "      <td>2017-09-25</td>\n",
       "    </tr>\n",
       "    <tr>\n",
       "      <th>17</th>\n",
       "      <td>918</td>\n",
       "      <td>35</td>\n",
       "      <td>The Boss Boot</td>\n",
       "      <td>Footwear</td>\n",
       "      <td>2017-10-02</td>\n",
       "    </tr>\n",
       "    <tr>\n",
       "      <th>18</th>\n",
       "      <td>913</td>\n",
       "      <td>35</td>\n",
       "      <td>The Cashmere Crop V-Neck</td>\n",
       "      <td>Sweaters</td>\n",
       "      <td>2017-10-09</td>\n",
       "    </tr>\n",
       "    <tr>\n",
       "      <th>19</th>\n",
       "      <td>894</td>\n",
       "      <td>34</td>\n",
       "      <td>The Heavyweight Crew</td>\n",
       "      <td>Knit Tops</td>\n",
       "      <td>2017-09-12</td>\n",
       "    </tr>\n",
       "    <tr>\n",
       "      <th>20</th>\n",
       "      <td>771</td>\n",
       "      <td>34</td>\n",
       "      <td>The Cotton Box-Cut Tee</td>\n",
       "      <td>Knit Tops</td>\n",
       "      <td>2017-01-18</td>\n",
       "    </tr>\n",
       "    <tr>\n",
       "      <th>21</th>\n",
       "      <td>906</td>\n",
       "      <td>34</td>\n",
       "      <td>The Open Neck Tee</td>\n",
       "      <td>Knit Tops</td>\n",
       "      <td>2017-07-17</td>\n",
       "    </tr>\n",
       "    <tr>\n",
       "      <th>22</th>\n",
       "      <td>911</td>\n",
       "      <td>33</td>\n",
       "      <td>The Slim Fit Jean</td>\n",
       "      <td>Denim</td>\n",
       "      <td>2017-09-07</td>\n",
       "    </tr>\n",
       "    <tr>\n",
       "      <th>23</th>\n",
       "      <td>953</td>\n",
       "      <td>33</td>\n",
       "      <td>The Editor Heel</td>\n",
       "      <td>Footwear</td>\n",
       "      <td>2017-10-16</td>\n",
       "    </tr>\n",
       "    <tr>\n",
       "      <th>24</th>\n",
       "      <td>995</td>\n",
       "      <td>31</td>\n",
       "      <td>The Wool-Cashmere Square Crew</td>\n",
       "      <td>Sweaters</td>\n",
       "      <td>2017-11-10</td>\n",
       "    </tr>\n",
       "  </tbody>\n",
       "</table>\n",
       "</div>"
      ],
      "text/plain": [
       "    style_id  total_order_count                                       style  \\\n",
       "0        908                152           The High-Rise Skinny Jean (Ankle)   \n",
       "1        887                 80                     The Square Mockneck Tee   \n",
       "2        909                 73            The Mid-Rise Skinny Jean (Ankle)   \n",
       "3        888                 61                              The Square Tee   \n",
       "4        642                 57                           The Cashmere Crew   \n",
       "5        862                 55                The Cotton Box-Cut Tee Dress   \n",
       "6        923                 54                      The Long Puffer Jacket   \n",
       "7        954                 53                        The Oversized Blazer   \n",
       "8        869                 46                           The Bridge Sandal   \n",
       "9        907                 44               The Italian GoWeave Easy Pant   \n",
       "10       810                 41        The Japanese GoWeave Long Slip Dress   \n",
       "11       921                 41               The Lightweight Puffer Jacket   \n",
       "12       997                 39  The Wool-Cashmere Rib Oversized Turtleneck   \n",
       "13       927                 37                     The Unisex Winter Parka   \n",
       "14       715                 36                      The Wide Leg Crop Pant   \n",
       "15       922                 35                     The Short Puffer Jacket   \n",
       "16       920                 35          The Italian GoWeave Classic Blazer   \n",
       "17       918                 35                               The Boss Boot   \n",
       "18       913                 35                    The Cashmere Crop V-Neck   \n",
       "19       894                 34                        The Heavyweight Crew   \n",
       "20       771                 34                      The Cotton Box-Cut Tee   \n",
       "21       906                 34                           The Open Neck Tee   \n",
       "22       911                 33                           The Slim Fit Jean   \n",
       "23       953                 33                             The Editor Heel   \n",
       "24       995                 31               The Wool-Cashmere Square Crew   \n",
       "\n",
       "         category launch_date  \n",
       "0           Denim  2017-09-07  \n",
       "1       Knit Tops  2017-08-28  \n",
       "2           Denim  2017-09-07  \n",
       "3       Knit Tops  2017-08-28  \n",
       "4        Sweaters  2016-10-03  \n",
       "5    Knit Dresses  2017-06-23  \n",
       "6       Outerwear  2017-11-06  \n",
       "7       Outerwear  2017-10-31  \n",
       "8        Footwear  2017-06-05  \n",
       "9         Bottoms  2017-09-18  \n",
       "10  Woven Dresses  2017-05-09  \n",
       "11      Outerwear  2017-11-06  \n",
       "12       Sweaters  2017-11-10  \n",
       "13      Outerwear  2017-11-06  \n",
       "14        Bottoms  2017-02-14  \n",
       "15      Outerwear  2017-11-06  \n",
       "16      Outerwear  2017-09-25  \n",
       "17       Footwear  2017-10-02  \n",
       "18       Sweaters  2017-10-09  \n",
       "19      Knit Tops  2017-09-12  \n",
       "20      Knit Tops  2017-01-18  \n",
       "21      Knit Tops  2017-07-17  \n",
       "22          Denim  2017-09-07  \n",
       "23       Footwear  2017-10-16  \n",
       "24       Sweaters  2017-11-10  "
      ]
     },
     "execution_count": 120,
     "metadata": {},
     "output_type": "execute_result"
    }
   ],
   "source": [
    "total_sales = pd.merge(pd.DataFrame(total_sales), products_df, how = 'left', on = 'style_id')\n",
    "total_sales.head(25)"
   ]
  },
  {
   "cell_type": "markdown",
   "metadata": {},
   "source": [
    "I think it would be interesting to see what is the most popular category over each month/time period"
   ]
  },
  {
   "cell_type": "code",
   "execution_count": 129,
   "metadata": {
    "ExecuteTime": {
     "end_time": "2018-11-15T19:57:52.772596Z",
     "start_time": "2018-11-15T19:57:52.710689Z"
    }
   },
   "outputs": [],
   "source": [
    "import matplotlib.pyplot as plt\n",
    "%matplotlib inline\n",
    "\n",
    "plt.style.use('seaborn')"
   ]
  },
  {
   "cell_type": "code",
   "execution_count": 165,
   "metadata": {
    "ExecuteTime": {
     "end_time": "2018-11-15T20:38:21.024484Z",
     "start_time": "2018-11-15T20:38:20.694915Z"
    }
   },
   "outputs": [
    {
     "data": {
      "image/png": "[encoded data removed]",
      "text/plain": [
       "<Figure size 576x396 with 1 Axes>"
      ]
     },
     "metadata": {},
     "output_type": "display_data"
    }
   ],
   "source": [
    "plt.plot(total_sales.launch_date, total_sales.total_order_count, '.');\n",
    "\n",
    "# i think it would be nice to plot a regression line to see the slope if it's trending upwards"
   ]
  },
  {
   "cell_type": "code",
   "execution_count": 181,
   "metadata": {
    "ExecuteTime": {
     "end_time": "2018-11-15T20:56:32.784468Z",
     "start_time": "2018-11-15T20:56:32.551634Z"
    }
   },
   "outputs": [
    {
     "name": "stdout",
     "output_type": "stream",
     "text": [
      "{'Knit Tops', 'Denim', 'Sweaters', 'Outerwear', 'Footwear', 'Knit Dresses'}\n"
     ]
    },
    {
     "data": {
      "image/png": "[encoded data removed]",
      "text/plain": [
       "<Figure size 800x550 with 1 Axes>"
      ]
     },
     "metadata": {},
     "output_type": "display_data"
    }
   ],
   "source": [
    "plt.figure(dpi = 100)\n",
    "\n",
    "# im going to define popular categories as categories that dominant to upper sales of total_sales\n",
    "top_partition = len(total_sales)//45 # done interatively to get smaller set of colors to graph\n",
    "\n",
    "popular_categories = set(total_sales.category[:top_partition])\n",
    "print(popular_categories)\n",
    "\n",
    "for name, grp in (total_sales.groupby(['category'])):\n",
    "    if name in popular_categories:\n",
    "        plt.plot(grp['launch_date'], grp['total_order_count'], '.', label=name)\n",
    "\n",
    "plt.title(f'Total Sales within {time_period} days of launch colored by category')    \n",
    "plt.legend();"
   ]
  },
  {
   "cell_type": "markdown",
   "metadata": {},
   "source": [
    "Harmeet suggested that I consider doing A/B/C product splits to understand what does well"
   ]
  },
  {
   "cell_type": "code",
   "execution_count": null,
   "metadata": {
    "collapsed": true
   },
   "outputs": [],
   "source": []
  },
  {
   "cell_type": "markdown",
   "metadata": {},
   "source": [
    "If I had more time, I would try to model this information by figuring out which features will make a product a 'success' as defined by having higher than average total sales. i think it would also be interesting to look at the projections for a product and compare it to how well it actually did"
   ]
  },
  {
   "cell_type": "markdown",
   "metadata": {
    "heading_collapsed": true
   },
   "source": [
    "#### Additionally, I know that new users drive revenue for Everlane as well. \n",
    "Therefore I think it's important to see how new_products fair for this segment of the market, and possibly compare it to not-new users as well. If there is a strong sales trend in non-new users, that could be an indicator of the 'strength' of the new product!"
   ]
  },
  {
   "cell_type": "code",
   "execution_count": null,
   "metadata": {
    "collapsed": true,
    "hidden": true
   },
   "outputs": [],
   "source": []
  }
 ],
 "metadata": {
  "kernelspec": {
   "display_name": "Python 3",
   "language": "python",
   "name": "python3"
  },
  "language_info": {
   "codemirror_mode": {
    "name": "ipython",
    "version": 3
   },
   "file_extension": ".py",
   "mimetype": "text/x-python",
   "name": "python",
   "nbconvert_exporter": "python",
   "pygments_lexer": "ipython3",
   "version": "3.6.3"
  },
  "varInspector": {
   "cols": {
    "lenName": 16,
    "lenType": 16,
    "lenVar": 40
   },
   "kernels_config": {
    "python": {
     "delete_cmd_postfix": "",
     "delete_cmd_prefix": "del ",
     "library": "var_list.py",
     "varRefreshCmd": "print(var_dic_list())"
    },
    "r": {
     "delete_cmd_postfix": ") ",
     "delete_cmd_prefix": "rm(",
     "library": "var_list.r",
     "varRefreshCmd": "cat(var_dic_list()) "
    }
   },
   "types_to_exclude": [
    "module",
    "function",
    "builtin_function_or_method",
    "instance",
    "_Feature"
   ],
   "window_display": false
  }
 },
 "nbformat": 4,
 "nbformat_minor": 2
}
