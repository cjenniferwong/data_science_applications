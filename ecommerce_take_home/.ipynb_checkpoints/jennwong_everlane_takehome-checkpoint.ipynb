{
 "cells": [
  {
   "cell_type": "markdown",
   "metadata": {},
   "source": [
    "# Jenn Wong\n",
    "jennwong@berkeley.edu"
   ]
  },
  {
   "cell_type": "markdown",
   "metadata": {},
   "source": [
    "Data was gathered from Everlane Mode SQL database from running\n",
    "\n",
    "select * from {database};"
   ]
  },
  {
   "cell_type": "code",
   "execution_count": 28,
   "metadata": {
    "ExecuteTime": {
     "end_time": "2018-11-17T00:42:16.902415Z",
     "start_time": "2018-11-17T00:42:16.855250Z"
    }
   },
   "outputs": [],
   "source": [
    "import pandas as pd\n",
    "from copy import deepcopy\n",
    "import matplotlib.pyplot as plt\n",
    "%matplotlib inline\n",
    "plt.style.use('ggplot')\n",
    "\n",
    "import seaborn as sns\n",
    "\n",
    "from collections import Counter\n",
    "\n",
    "import warnings\n",
    "warnings.filterwarnings('ignore')"
   ]
  },
  {
   "cell_type": "code",
   "execution_count": 2,
   "metadata": {
    "ExecuteTime": {
     "end_time": "2018-11-17T00:35:02.020275Z",
     "start_time": "2018-11-17T00:35:01.870152Z"
    },
    "collapsed": true
   },
   "outputs": [],
   "source": [
    "users_df = pd.read_csv('users.csv')\n",
    "orders_df = pd.read_csv('orders.csv')\n",
    "products_df = pd.read_csv('products.csv')"
   ]
  },
  {
   "cell_type": "code",
   "execution_count": 3,
   "metadata": {
    "ExecuteTime": {
     "end_time": "2018-11-17T00:35:02.058207Z",
     "start_time": "2018-11-17T00:35:02.022830Z"
    }
   },
   "outputs": [
    {
     "data": {
      "text/html": [
       "<div>\n",
       "<style scoped>\n",
       "    .dataframe tbody tr th:only-of-type {\n",
       "        vertical-align: middle;\n",
       "    }\n",
       "\n",
       "    .dataframe tbody tr th {\n",
       "        vertical-align: top;\n",
       "    }\n",
       "\n",
       "    .dataframe thead th {\n",
       "        text-align: right;\n",
       "    }\n",
       "</style>\n",
       "<table border=\"1\" class=\"dataframe\">\n",
       "  <thead>\n",
       "    <tr style=\"text-align: right;\">\n",
       "      <th></th>\n",
       "      <th>user_id</th>\n",
       "      <th>discovery_channel_category</th>\n",
       "      <th>discovery_channel</th>\n",
       "      <th>discovery_time</th>\n",
       "      <th>discovery_platform</th>\n",
       "      <th>location</th>\n",
       "      <th>gender</th>\n",
       "    </tr>\n",
       "  </thead>\n",
       "  <tbody>\n",
       "    <tr>\n",
       "      <th>0</th>\n",
       "      <td>1957598</td>\n",
       "      <td>paid</td>\n",
       "      <td>other</td>\n",
       "      <td>2017-05-10 07:23:23</td>\n",
       "      <td>desktop</td>\n",
       "      <td>US</td>\n",
       "      <td>female</td>\n",
       "    </tr>\n",
       "    <tr>\n",
       "      <th>1</th>\n",
       "      <td>1771115</td>\n",
       "      <td>paid</td>\n",
       "      <td>affiliate</td>\n",
       "      <td>2017-02-15 16:33:02</td>\n",
       "      <td>mobile</td>\n",
       "      <td>US</td>\n",
       "      <td>female</td>\n",
       "    </tr>\n",
       "    <tr>\n",
       "      <th>2</th>\n",
       "      <td>1489936</td>\n",
       "      <td>direct</td>\n",
       "      <td>NaN</td>\n",
       "      <td>2016-09-13 16:07:53</td>\n",
       "      <td>desktop</td>\n",
       "      <td>US</td>\n",
       "      <td>female</td>\n",
       "    </tr>\n",
       "    <tr>\n",
       "      <th>3</th>\n",
       "      <td>2356025</td>\n",
       "      <td>paid</td>\n",
       "      <td>search</td>\n",
       "      <td>2017-10-12 17:13:53</td>\n",
       "      <td>desktop</td>\n",
       "      <td>US</td>\n",
       "      <td>female</td>\n",
       "    </tr>\n",
       "    <tr>\n",
       "      <th>4</th>\n",
       "      <td>1463297</td>\n",
       "      <td>organic search</td>\n",
       "      <td>NaN</td>\n",
       "      <td>2016-08-17 07:06:25</td>\n",
       "      <td>desktop</td>\n",
       "      <td>international</td>\n",
       "      <td>female</td>\n",
       "    </tr>\n",
       "  </tbody>\n",
       "</table>\n",
       "</div>"
      ],
      "text/plain": [
       "   user_id discovery_channel_category discovery_channel      discovery_time  \\\n",
       "0  1957598                       paid             other 2017-05-10 07:23:23   \n",
       "1  1771115                       paid         affiliate 2017-02-15 16:33:02   \n",
       "2  1489936                     direct               NaN 2016-09-13 16:07:53   \n",
       "3  2356025                       paid            search 2017-10-12 17:13:53   \n",
       "4  1463297             organic search               NaN 2016-08-17 07:06:25   \n",
       "\n",
       "  discovery_platform       location  gender  \n",
       "0            desktop             US  female  \n",
       "1             mobile             US  female  \n",
       "2            desktop             US  female  \n",
       "3            desktop             US  female  \n",
       "4            desktop  international  female  "
      ]
     },
     "execution_count": 3,
     "metadata": {},
     "output_type": "execute_result"
    }
   ],
   "source": [
    "users_df.discovery_time = pd.to_datetime(users_df.discovery_time)\n",
    "users_df.head()"
   ]
  },
  {
   "cell_type": "code",
   "execution_count": 4,
   "metadata": {
    "ExecuteTime": {
     "end_time": "2018-11-17T00:35:02.084560Z",
     "start_time": "2018-11-17T00:35:02.060315Z"
    }
   },
   "outputs": [
    {
     "data": {
      "text/html": [
       "<div>\n",
       "<style scoped>\n",
       "    .dataframe tbody tr th:only-of-type {\n",
       "        vertical-align: middle;\n",
       "    }\n",
       "\n",
       "    .dataframe tbody tr th {\n",
       "        vertical-align: top;\n",
       "    }\n",
       "\n",
       "    .dataframe thead th {\n",
       "        text-align: right;\n",
       "    }\n",
       "</style>\n",
       "<table border=\"1\" class=\"dataframe\">\n",
       "  <thead>\n",
       "    <tr style=\"text-align: right;\">\n",
       "      <th></th>\n",
       "      <th>line_item_id</th>\n",
       "      <th>order_id</th>\n",
       "      <th>completed_at</th>\n",
       "      <th>user_id</th>\n",
       "      <th>quantity</th>\n",
       "      <th>price</th>\n",
       "      <th>style_id</th>\n",
       "      <th>order_channel</th>\n",
       "      <th>order_channel_category</th>\n",
       "    </tr>\n",
       "  </thead>\n",
       "  <tbody>\n",
       "    <tr>\n",
       "      <th>0</th>\n",
       "      <td>14134747</td>\n",
       "      <td>2874138</td>\n",
       "      <td>2016-12-29 14:54:22</td>\n",
       "      <td>1444626</td>\n",
       "      <td>1</td>\n",
       "      <td>25.0</td>\n",
       "      <td>447</td>\n",
       "      <td>other</td>\n",
       "      <td>paid</td>\n",
       "    </tr>\n",
       "    <tr>\n",
       "      <th>1</th>\n",
       "      <td>17240079</td>\n",
       "      <td>3506498</td>\n",
       "      <td>2017-09-05 19:00:51</td>\n",
       "      <td>1125825</td>\n",
       "      <td>1</td>\n",
       "      <td>68.0</td>\n",
       "      <td>944</td>\n",
       "      <td>search</td>\n",
       "      <td>paid</td>\n",
       "    </tr>\n",
       "    <tr>\n",
       "      <th>2</th>\n",
       "      <td>20017564</td>\n",
       "      <td>4020991</td>\n",
       "      <td>2017-12-27 17:41:00</td>\n",
       "      <td>2521400</td>\n",
       "      <td>1</td>\n",
       "      <td>88.0</td>\n",
       "      <td>890</td>\n",
       "      <td>search</td>\n",
       "      <td>paid</td>\n",
       "    </tr>\n",
       "    <tr>\n",
       "      <th>3</th>\n",
       "      <td>19281489</td>\n",
       "      <td>3858476</td>\n",
       "      <td>2017-12-01 18:53:11</td>\n",
       "      <td>2222476</td>\n",
       "      <td>1</td>\n",
       "      <td>62.0</td>\n",
       "      <td>640</td>\n",
       "      <td>other</td>\n",
       "      <td>paid</td>\n",
       "    </tr>\n",
       "    <tr>\n",
       "      <th>4</th>\n",
       "      <td>15018380</td>\n",
       "      <td>3047663</td>\n",
       "      <td>2017-03-26 15:38:13</td>\n",
       "      <td>1854949</td>\n",
       "      <td>1</td>\n",
       "      <td>100.0</td>\n",
       "      <td>650</td>\n",
       "      <td>affiliate</td>\n",
       "      <td>paid</td>\n",
       "    </tr>\n",
       "  </tbody>\n",
       "</table>\n",
       "</div>"
      ],
      "text/plain": [
       "   line_item_id  order_id        completed_at  user_id  quantity  price  \\\n",
       "0      14134747   2874138 2016-12-29 14:54:22  1444626         1   25.0   \n",
       "1      17240079   3506498 2017-09-05 19:00:51  1125825         1   68.0   \n",
       "2      20017564   4020991 2017-12-27 17:41:00  2521400         1   88.0   \n",
       "3      19281489   3858476 2017-12-01 18:53:11  2222476         1   62.0   \n",
       "4      15018380   3047663 2017-03-26 15:38:13  1854949         1  100.0   \n",
       "\n",
       "   style_id order_channel order_channel_category  \n",
       "0       447         other                   paid  \n",
       "1       944        search                   paid  \n",
       "2       890        search                   paid  \n",
       "3       640         other                   paid  \n",
       "4       650     affiliate                   paid  "
      ]
     },
     "execution_count": 4,
     "metadata": {},
     "output_type": "execute_result"
    }
   ],
   "source": [
    "orders_df.head()\n",
    "\n",
    "# this is a string and should be date-time for easier analysis\n",
    "orders_df.completed_at = pd.to_datetime(orders_df.completed_at) \n",
    "orders_df.head()"
   ]
  },
  {
   "cell_type": "code",
   "execution_count": 5,
   "metadata": {
    "ExecuteTime": {
     "end_time": "2018-11-17T00:35:02.212824Z",
     "start_time": "2018-11-17T00:35:02.086813Z"
    }
   },
   "outputs": [
    {
     "data": {
      "image/png": "[encoded data removed]",
      "text/plain": [
       "<Figure size 432x288 with 1 Axes>"
      ]
     },
     "metadata": {},
     "output_type": "display_data"
    }
   ],
   "source": [
    "plt.hist(orders_df.quantity, bins = 10);"
   ]
  },
  {
   "cell_type": "code",
   "execution_count": 6,
   "metadata": {
    "ExecuteTime": {
     "end_time": "2018-11-17T00:35:02.227941Z",
     "start_time": "2018-11-17T00:35:02.215181Z"
    }
   },
   "outputs": [
    {
     "data": {
      "text/html": [
       "<div>\n",
       "<style scoped>\n",
       "    .dataframe tbody tr th:only-of-type {\n",
       "        vertical-align: middle;\n",
       "    }\n",
       "\n",
       "    .dataframe tbody tr th {\n",
       "        vertical-align: top;\n",
       "    }\n",
       "\n",
       "    .dataframe thead th {\n",
       "        text-align: right;\n",
       "    }\n",
       "</style>\n",
       "<table border=\"1\" class=\"dataframe\">\n",
       "  <thead>\n",
       "    <tr style=\"text-align: right;\">\n",
       "      <th></th>\n",
       "      <th>style_id</th>\n",
       "      <th>style</th>\n",
       "      <th>category</th>\n",
       "      <th>launch_date</th>\n",
       "    </tr>\n",
       "  </thead>\n",
       "  <tbody>\n",
       "    <tr>\n",
       "      <th>0</th>\n",
       "      <td>592</td>\n",
       "      <td>The Premium Wool Flannel Pinstripe Track Pant</td>\n",
       "      <td>Bottoms</td>\n",
       "      <td>2016-09-19</td>\n",
       "    </tr>\n",
       "    <tr>\n",
       "      <th>1</th>\n",
       "      <td>572</td>\n",
       "      <td>The Luxe Drape Cropped Scoop-Neck Tee</td>\n",
       "      <td>Knit Tops</td>\n",
       "      <td>2016-07-26</td>\n",
       "    </tr>\n",
       "    <tr>\n",
       "      <th>2</th>\n",
       "      <td>645</td>\n",
       "      <td>The Cashmere Cardigan</td>\n",
       "      <td>Sweaters</td>\n",
       "      <td>2016-10-10</td>\n",
       "    </tr>\n",
       "    <tr>\n",
       "      <th>3</th>\n",
       "      <td>435</td>\n",
       "      <td>The Modern Flannel Shirt</td>\n",
       "      <td>Shirting</td>\n",
       "      <td>2016-02-25</td>\n",
       "    </tr>\n",
       "    <tr>\n",
       "      <th>4</th>\n",
       "      <td>874</td>\n",
       "      <td>The Pleated Midi Skirt</td>\n",
       "      <td>Bottoms</td>\n",
       "      <td>2017-08-24</td>\n",
       "    </tr>\n",
       "  </tbody>\n",
       "</table>\n",
       "</div>"
      ],
      "text/plain": [
       "   style_id                                          style   category  \\\n",
       "0       592  The Premium Wool Flannel Pinstripe Track Pant    Bottoms   \n",
       "1       572          The Luxe Drape Cropped Scoop-Neck Tee  Knit Tops   \n",
       "2       645                          The Cashmere Cardigan   Sweaters   \n",
       "3       435                       The Modern Flannel Shirt   Shirting   \n",
       "4       874                         The Pleated Midi Skirt    Bottoms   \n",
       "\n",
       "  launch_date  \n",
       "0  2016-09-19  \n",
       "1  2016-07-26  \n",
       "2  2016-10-10  \n",
       "3  2016-02-25  \n",
       "4  2017-08-24  "
      ]
     },
     "execution_count": 6,
     "metadata": {},
     "output_type": "execute_result"
    }
   ],
   "source": [
    "products_df.launch_date = pd.to_datetime(products_df.launch_date)\n",
    "products_df.head()"
   ]
  },
  {
   "cell_type": "markdown",
   "metadata": {
    "heading_collapsed": true
   },
   "source": [
    "## Question 1: New Product Launches\n",
    "\n",
    "1. How would you measure the strength of a new product?\n",
    "2. Based on this methodology, how would you summarise the recent trends of Everlane launch performance? Please support your answer with data.\n",
    "3. What are the areas of opportunity when it comes to new launches?\n"
   ]
  },
  {
   "cell_type": "markdown",
   "metadata": {
    "hidden": true
   },
   "source": [
    "I will be defining the 'strength' of the new product as number of sales in the first two weeks of launch (because I know that Everlane releases new products every week and constitutes a large part of its revenue). This will allow me to see how it performs as a 'new product' as well as an 'old-er product' and identify seasonal trends (if any) in the week.\n",
    "\n",
    "In order to answer this question, I need to get metadata on the products that were ordered. I will be joining the orders_df with the products_df on 'style_id' in order to get the data that I need."
   ]
  },
  {
   "cell_type": "markdown",
   "metadata": {
    "hidden": true
   },
   "source": [
    "Recent 'trends' would be looking at the product and its metadata to evaluate if certain types of items are gaining popularity or something, or maybe something in the orders (discovery channel), or maybe it's the price bin "
   ]
  },
  {
   "cell_type": "code",
   "execution_count": 7,
   "metadata": {
    "ExecuteTime": {
     "end_time": "2018-11-17T00:35:02.267977Z",
     "start_time": "2018-11-17T00:35:02.230263Z"
    },
    "hidden": true
   },
   "outputs": [
    {
     "data": {
      "text/html": [
       "<div>\n",
       "<style scoped>\n",
       "    .dataframe tbody tr th:only-of-type {\n",
       "        vertical-align: middle;\n",
       "    }\n",
       "\n",
       "    .dataframe tbody tr th {\n",
       "        vertical-align: top;\n",
       "    }\n",
       "\n",
       "    .dataframe thead th {\n",
       "        text-align: right;\n",
       "    }\n",
       "</style>\n",
       "<table border=\"1\" class=\"dataframe\">\n",
       "  <thead>\n",
       "    <tr style=\"text-align: right;\">\n",
       "      <th></th>\n",
       "      <th>line_item_id</th>\n",
       "      <th>order_id</th>\n",
       "      <th>completed_at</th>\n",
       "      <th>user_id</th>\n",
       "      <th>quantity</th>\n",
       "      <th>price</th>\n",
       "      <th>style_id</th>\n",
       "      <th>order_channel</th>\n",
       "      <th>order_channel_category</th>\n",
       "      <th>style</th>\n",
       "      <th>category</th>\n",
       "      <th>launch_date</th>\n",
       "    </tr>\n",
       "  </thead>\n",
       "  <tbody>\n",
       "    <tr>\n",
       "      <th>0</th>\n",
       "      <td>14134747</td>\n",
       "      <td>2874138</td>\n",
       "      <td>2016-12-29 14:54:22</td>\n",
       "      <td>1444626</td>\n",
       "      <td>1</td>\n",
       "      <td>25.0</td>\n",
       "      <td>447</td>\n",
       "      <td>other</td>\n",
       "      <td>paid</td>\n",
       "      <td>The Pima Stretch Mid-Sleeve</td>\n",
       "      <td>Knit Tops</td>\n",
       "      <td>2016-01-26</td>\n",
       "    </tr>\n",
       "    <tr>\n",
       "      <th>1</th>\n",
       "      <td>17240079</td>\n",
       "      <td>3506498</td>\n",
       "      <td>2017-09-05 19:00:51</td>\n",
       "      <td>1125825</td>\n",
       "      <td>1</td>\n",
       "      <td>68.0</td>\n",
       "      <td>944</td>\n",
       "      <td>search</td>\n",
       "      <td>paid</td>\n",
       "      <td>The Cotton Turtleneck</td>\n",
       "      <td>Sweaters</td>\n",
       "      <td>2017-08-10</td>\n",
       "    </tr>\n",
       "    <tr>\n",
       "      <th>2</th>\n",
       "      <td>20017564</td>\n",
       "      <td>4020991</td>\n",
       "      <td>2017-12-27 17:41:00</td>\n",
       "      <td>2521400</td>\n",
       "      <td>1</td>\n",
       "      <td>88.0</td>\n",
       "      <td>890</td>\n",
       "      <td>search</td>\n",
       "      <td>paid</td>\n",
       "      <td>The Silk Long-Sleeve Blouse</td>\n",
       "      <td>Woven Tops</td>\n",
       "      <td>2017-09-14</td>\n",
       "    </tr>\n",
       "    <tr>\n",
       "      <th>3</th>\n",
       "      <td>19281489</td>\n",
       "      <td>3858476</td>\n",
       "      <td>2017-12-01 18:53:11</td>\n",
       "      <td>2222476</td>\n",
       "      <td>1</td>\n",
       "      <td>62.0</td>\n",
       "      <td>640</td>\n",
       "      <td>other</td>\n",
       "      <td>paid</td>\n",
       "      <td>The Ribbed Wool-Cashmere Sleeveless Turtleneck</td>\n",
       "      <td>Sweaters</td>\n",
       "      <td>2016-10-24</td>\n",
       "    </tr>\n",
       "    <tr>\n",
       "      <th>4</th>\n",
       "      <td>15018380</td>\n",
       "      <td>3047663</td>\n",
       "      <td>2017-03-26 15:38:13</td>\n",
       "      <td>1854949</td>\n",
       "      <td>1</td>\n",
       "      <td>100.0</td>\n",
       "      <td>650</td>\n",
       "      <td>affiliate</td>\n",
       "      <td>paid</td>\n",
       "      <td>The Cashmere Crew</td>\n",
       "      <td>Sweaters</td>\n",
       "      <td>2016-10-03</td>\n",
       "    </tr>\n",
       "  </tbody>\n",
       "</table>\n",
       "</div>"
      ],
      "text/plain": [
       "   line_item_id  order_id        completed_at  user_id  quantity  price  \\\n",
       "0      14134747   2874138 2016-12-29 14:54:22  1444626         1   25.0   \n",
       "1      17240079   3506498 2017-09-05 19:00:51  1125825         1   68.0   \n",
       "2      20017564   4020991 2017-12-27 17:41:00  2521400         1   88.0   \n",
       "3      19281489   3858476 2017-12-01 18:53:11  2222476         1   62.0   \n",
       "4      15018380   3047663 2017-03-26 15:38:13  1854949         1  100.0   \n",
       "\n",
       "   style_id order_channel order_channel_category  \\\n",
       "0       447         other                   paid   \n",
       "1       944        search                   paid   \n",
       "2       890        search                   paid   \n",
       "3       640         other                   paid   \n",
       "4       650     affiliate                   paid   \n",
       "\n",
       "                                            style    category launch_date  \n",
       "0                     The Pima Stretch Mid-Sleeve   Knit Tops  2016-01-26  \n",
       "1                           The Cotton Turtleneck    Sweaters  2017-08-10  \n",
       "2                     The Silk Long-Sleeve Blouse  Woven Tops  2017-09-14  \n",
       "3  The Ribbed Wool-Cashmere Sleeveless Turtleneck    Sweaters  2016-10-24  \n",
       "4                               The Cashmere Crew    Sweaters  2016-10-03  "
      ]
     },
     "execution_count": 7,
     "metadata": {},
     "output_type": "execute_result"
    }
   ],
   "source": [
    "detailed_orders = pd.merge(orders_df, products_df, how='left', on='style_id')\n",
    "detailed_orders.head()"
   ]
  },
  {
   "cell_type": "markdown",
   "metadata": {
    "hidden": true
   },
   "source": [
    "I could have done this in SQL too with the following query:\n",
    "\n",
    "select * \n",
    "from recruiting.orders o\n",
    "left join recruiting.products p on p.style_id = o.style_id;"
   ]
  },
  {
   "cell_type": "code",
   "execution_count": 8,
   "metadata": {
    "ExecuteTime": {
     "end_time": "2018-11-17T00:35:02.649489Z",
     "start_time": "2018-11-17T00:35:02.270764Z"
    },
    "hidden": true
   },
   "outputs": [
    {
     "name": "stdout",
     "output_type": "stream",
     "text": [
      "I started with 43548 number of orders. I now have 4327 rows of recent orders\n"
     ]
    },
    {
     "data": {
      "text/html": [
       "<div>\n",
       "<style scoped>\n",
       "    .dataframe tbody tr th:only-of-type {\n",
       "        vertical-align: middle;\n",
       "    }\n",
       "\n",
       "    .dataframe tbody tr th {\n",
       "        vertical-align: top;\n",
       "    }\n",
       "\n",
       "    .dataframe thead th {\n",
       "        text-align: right;\n",
       "    }\n",
       "</style>\n",
       "<table border=\"1\" class=\"dataframe\">\n",
       "  <thead>\n",
       "    <tr style=\"text-align: right;\">\n",
       "      <th></th>\n",
       "      <th>line_item_id</th>\n",
       "      <th>order_id</th>\n",
       "      <th>completed_at</th>\n",
       "      <th>user_id</th>\n",
       "      <th>quantity</th>\n",
       "      <th>price</th>\n",
       "      <th>style_id</th>\n",
       "      <th>order_channel</th>\n",
       "      <th>order_channel_category</th>\n",
       "      <th>style</th>\n",
       "      <th>category</th>\n",
       "      <th>launch_date</th>\n",
       "      <th>time_since_launch</th>\n",
       "      <th>days_since_launch</th>\n",
       "    </tr>\n",
       "  </thead>\n",
       "  <tbody>\n",
       "    <tr>\n",
       "      <th>9</th>\n",
       "      <td>12912030</td>\n",
       "      <td>2563686</td>\n",
       "      <td>2016-10-10 00:34:32</td>\n",
       "      <td>1333122</td>\n",
       "      <td>1</td>\n",
       "      <td>100.0</td>\n",
       "      <td>642</td>\n",
       "      <td>affiliate</td>\n",
       "      <td>paid</td>\n",
       "      <td>The Cashmere Crew</td>\n",
       "      <td>Sweaters</td>\n",
       "      <td>2016-10-03</td>\n",
       "      <td>7 days 00:34:32</td>\n",
       "      <td>7</td>\n",
       "    </tr>\n",
       "    <tr>\n",
       "      <th>29</th>\n",
       "      <td>14599945</td>\n",
       "      <td>2973712</td>\n",
       "      <td>2017-02-15 06:11:10</td>\n",
       "      <td>1769008</td>\n",
       "      <td>1</td>\n",
       "      <td>68.0</td>\n",
       "      <td>715</td>\n",
       "      <td>affiliate</td>\n",
       "      <td>paid</td>\n",
       "      <td>The Wide Leg Crop Pant</td>\n",
       "      <td>Bottoms</td>\n",
       "      <td>2017-02-14</td>\n",
       "      <td>1 days 06:11:10</td>\n",
       "      <td>1</td>\n",
       "    </tr>\n",
       "    <tr>\n",
       "      <th>37</th>\n",
       "      <td>14687198</td>\n",
       "      <td>2989227</td>\n",
       "      <td>2017-02-24 11:59:12</td>\n",
       "      <td>1732638</td>\n",
       "      <td>1</td>\n",
       "      <td>68.0</td>\n",
       "      <td>715</td>\n",
       "      <td>other</td>\n",
       "      <td>paid</td>\n",
       "      <td>The Wide Leg Crop Pant</td>\n",
       "      <td>Bottoms</td>\n",
       "      <td>2017-02-14</td>\n",
       "      <td>10 days 11:59:12</td>\n",
       "      <td>10</td>\n",
       "    </tr>\n",
       "    <tr>\n",
       "      <th>44</th>\n",
       "      <td>16116627</td>\n",
       "      <td>3290378</td>\n",
       "      <td>2017-06-18 05:40:10</td>\n",
       "      <td>656605</td>\n",
       "      <td>1</td>\n",
       "      <td>25.0</td>\n",
       "      <td>934</td>\n",
       "      <td>search</td>\n",
       "      <td>paid</td>\n",
       "      <td>Human Pride Unisex Tank in Double Print</td>\n",
       "      <td>Knit Tops</td>\n",
       "      <td>2017-06-05</td>\n",
       "      <td>13 days 05:40:10</td>\n",
       "      <td>13</td>\n",
       "    </tr>\n",
       "    <tr>\n",
       "      <th>48</th>\n",
       "      <td>18280552</td>\n",
       "      <td>3679979</td>\n",
       "      <td>2017-10-21 17:49:11</td>\n",
       "      <td>2380929</td>\n",
       "      <td>1</td>\n",
       "      <td>155.0</td>\n",
       "      <td>933</td>\n",
       "      <td>search</td>\n",
       "      <td>paid</td>\n",
       "      <td>The Waffle Knit Cashmere Square Crew</td>\n",
       "      <td>Sweaters</td>\n",
       "      <td>2017-10-12</td>\n",
       "      <td>9 days 17:49:11</td>\n",
       "      <td>9</td>\n",
       "    </tr>\n",
       "  </tbody>\n",
       "</table>\n",
       "</div>"
      ],
      "text/plain": [
       "    line_item_id  order_id        completed_at  user_id  quantity  price  \\\n",
       "9       12912030   2563686 2016-10-10 00:34:32  1333122         1  100.0   \n",
       "29      14599945   2973712 2017-02-15 06:11:10  1769008         1   68.0   \n",
       "37      14687198   2989227 2017-02-24 11:59:12  1732638         1   68.0   \n",
       "44      16116627   3290378 2017-06-18 05:40:10   656605         1   25.0   \n",
       "48      18280552   3679979 2017-10-21 17:49:11  2380929         1  155.0   \n",
       "\n",
       "    style_id order_channel order_channel_category  \\\n",
       "9        642     affiliate                   paid   \n",
       "29       715     affiliate                   paid   \n",
       "37       715         other                   paid   \n",
       "44       934        search                   paid   \n",
       "48       933        search                   paid   \n",
       "\n",
       "                                      style   category launch_date  \\\n",
       "9                         The Cashmere Crew   Sweaters  2016-10-03   \n",
       "29                   The Wide Leg Crop Pant    Bottoms  2017-02-14   \n",
       "37                   The Wide Leg Crop Pant    Bottoms  2017-02-14   \n",
       "44  Human Pride Unisex Tank in Double Print  Knit Tops  2017-06-05   \n",
       "48     The Waffle Knit Cashmere Square Crew   Sweaters  2017-10-12   \n",
       "\n",
       "   time_since_launch  days_since_launch  \n",
       "9    7 days 00:34:32                  7  \n",
       "29   1 days 06:11:10                  1  \n",
       "37  10 days 11:59:12                 10  \n",
       "44  13 days 05:40:10                 13  \n",
       "48   9 days 17:49:11                  9  "
      ]
     },
     "execution_count": 8,
     "metadata": {},
     "output_type": "execute_result"
    }
   ],
   "source": [
    "time_period = 14 # this is the number of days after launch that I care about\n",
    "\n",
    "detailed_orders['time_since_launch'] = (detailed_orders.completed_at - detailed_orders.launch_date)\n",
    "\n",
    "\n",
    "# i only care about the days since launch and not such a high resolution\n",
    "def get_days(date_time_object):\n",
    "    \"\"\"\n",
    "    this function takes a datetime object and returns the days\n",
    "    \"\"\"\n",
    "    return date_time_object.days\n",
    "\n",
    "detailed_orders['days_since_launch'] = detailed_orders.time_since_launch.apply(get_days)\n",
    "\n",
    "# I am creating a mask for orders made within the time period i'm interested in.\n",
    "# sanity check, I know that all orders are at least 0 days since launch. there are some errors in the data though... \n",
    "recent_mask = (detailed_orders.days_since_launch <= time_period) & (detailed_orders.days_since_launch >0)\n",
    "\n",
    "new_orders = detailed_orders[recent_mask]\n",
    "\n",
    "print(f'I started with {len(detailed_orders)} number of orders. I now have {len(new_orders)} rows of recent orders')\n",
    "# len(new_orders\n",
    "\n",
    "new_orders.head()"
   ]
  },
  {
   "cell_type": "code",
   "execution_count": 9,
   "metadata": {
    "ExecuteTime": {
     "end_time": "2018-11-17T00:35:02.803571Z",
     "start_time": "2018-11-17T00:35:02.651763Z"
    },
    "hidden": true,
    "scrolled": false
   },
   "outputs": [
    {
     "data": {
      "image/png": "[encoded data removed]",
      "text/plain": [
       "<Figure size 600x400 with 1 Axes>"
      ]
     },
     "metadata": {},
     "output_type": "display_data"
    }
   ],
   "source": [
    "# so now I need to find the count of sales for each day over two weeks after launch for each product\n",
    "sale_count = new_orders['style_id'].value_counts()\n",
    "sale_count.rename(columns = {\n",
    "    0: 'daily_order_count'\n",
    "}, inplace = True)\n",
    "sale_count.head()\n",
    "\n",
    "plt.figure(dpi = 100)\n",
    "plt.hist(sale_count, bins = 20)\n",
    "plt.xlabel(f'Number of products with this many sales in {time_period} days since its launch')\n",
    "plt.title('Histogram of distribution of sales')\n",
    "plt.show();\n",
    "# total_sales = sale_count.groupby('style_id').sum()['daily_order_count']\n",
    "# total_sales = deepcopy(total_sales.sort_values(ascending = False)).reset_index()\n",
    "# total_sales.rename(columns = {\n",
    "#     'daily_order_count': 'total_order_count'\n",
    "# }, inplace = True)\n",
    "# total_sales.head()\n",
    "\n",
    "# a way to visualize this would be to look at the top n performers and their sales and compare to bottom n\n",
    "\n",
    "\n",
    "# I will take the top n products in terms of total number of sales in the time period and \n"
   ]
  },
  {
   "cell_type": "code",
   "execution_count": 10,
   "metadata": {
    "ExecuteTime": {
     "end_time": "2018-11-17T00:35:02.820379Z",
     "start_time": "2018-11-17T00:35:02.805643Z"
    },
    "hidden": true,
    "scrolled": true
   },
   "outputs": [
    {
     "data": {
      "text/html": [
       "<div>\n",
       "<style scoped>\n",
       "    .dataframe tbody tr th:only-of-type {\n",
       "        vertical-align: middle;\n",
       "    }\n",
       "\n",
       "    .dataframe tbody tr th {\n",
       "        vertical-align: top;\n",
       "    }\n",
       "\n",
       "    .dataframe thead th {\n",
       "        text-align: right;\n",
       "    }\n",
       "</style>\n",
       "<table border=\"1\" class=\"dataframe\">\n",
       "  <thead>\n",
       "    <tr style=\"text-align: right;\">\n",
       "      <th></th>\n",
       "      <th>style_id</th>\n",
       "      <th>sale_count</th>\n",
       "    </tr>\n",
       "  </thead>\n",
       "  <tbody>\n",
       "    <tr>\n",
       "      <th>0</th>\n",
       "      <td>908</td>\n",
       "      <td>152</td>\n",
       "    </tr>\n",
       "    <tr>\n",
       "      <th>1</th>\n",
       "      <td>887</td>\n",
       "      <td>80</td>\n",
       "    </tr>\n",
       "    <tr>\n",
       "      <th>2</th>\n",
       "      <td>909</td>\n",
       "      <td>73</td>\n",
       "    </tr>\n",
       "    <tr>\n",
       "      <th>3</th>\n",
       "      <td>888</td>\n",
       "      <td>61</td>\n",
       "    </tr>\n",
       "    <tr>\n",
       "      <th>4</th>\n",
       "      <td>642</td>\n",
       "      <td>57</td>\n",
       "    </tr>\n",
       "  </tbody>\n",
       "</table>\n",
       "</div>"
      ],
      "text/plain": [
       "   style_id  sale_count\n",
       "0       908         152\n",
       "1       887          80\n",
       "2       909          73\n",
       "3       888          61\n",
       "4       642          57"
      ]
     },
     "execution_count": 10,
     "metadata": {},
     "output_type": "execute_result"
    }
   ],
   "source": [
    "sale_count = pd.DataFrame(sale_count).reset_index()\n",
    "sale_count.rename(columns = {\n",
    "    'index': 'style_id',\n",
    "    0: 'sale_count'\n",
    "}, inplace = True)\n",
    "sale_count.head()"
   ]
  },
  {
   "cell_type": "markdown",
   "metadata": {
    "hidden": true
   },
   "source": [
    "This exponential decay of the distribution of product sales tells me there are 'strong' products which account for much of the sales within their the time frame specified since its launch. Next, I will be digging deeper to understand these 'strong' products better."
   ]
  },
  {
   "cell_type": "markdown",
   "metadata": {
    "hidden": true
   },
   "source": [
    "I think it would be interesting to see what is the most popular category over each month and binning prices to look at those over time as well\n"
   ]
  },
  {
   "cell_type": "code",
   "execution_count": 11,
   "metadata": {
    "ExecuteTime": {
     "end_time": "2018-11-17T00:35:02.988451Z",
     "start_time": "2018-11-17T00:35:02.822672Z"
    },
    "hidden": true,
    "scrolled": true
   },
   "outputs": [],
   "source": [
    "new_orders['price_bin'] = (new_orders.price//10) * 10\n",
    "new_orders = pd.merge(new_orders, sale_count, how = 'left', on = 'style_id')\n",
    "trends_df = new_orders[['style_id', 'category', 'launch_date', 'price_bin', 'sale_count']]\n",
    "trends_df.drop_duplicates(inplace = True)"
   ]
  },
  {
   "cell_type": "code",
   "execution_count": 12,
   "metadata": {
    "ExecuteTime": {
     "end_time": "2018-11-17T00:35:03.035168Z",
     "start_time": "2018-11-17T00:35:02.991076Z"
    },
    "hidden": true,
    "scrolled": true
   },
   "outputs": [],
   "source": [
    "# defining top performing categories as how often they appear in the top 3rd of sales\n",
    "top_n_categories = 7\n",
    "trends_df.sort_values('sale_count', ascending = False, inplace = True)\n",
    "top_categories = sorted(Counter(trends_df[:len(trends_df)//3]['category']).items(),\n",
    "                        key = lambda x: x[1], reverse = True)\n",
    "\n",
    "top_categories = [name for name, _ in top_categories[:top_n_categories]]"
   ]
  },
  {
   "cell_type": "code",
   "execution_count": 13,
   "metadata": {
    "ExecuteTime": {
     "end_time": "2018-11-17T00:35:03.293226Z",
     "start_time": "2018-11-17T00:35:03.037928Z"
    },
    "hidden": true,
    "scrolled": false
   },
   "outputs": [
    {
     "data": {
      "image/png": "[encoded data removed]",
      "text/plain": [
       "<Figure size 900x600 with 1 Axes>"
      ]
     },
     "metadata": {},
     "output_type": "display_data"
    },
    {
     "name": "stdout",
     "output_type": "stream",
     "text": [
      "the complete list of categories: \n",
      " ['Outerwear', 'Sweaters', 'Shirting', 'Other', 'SLGs', 'Bags', 'Seasonal Accessories', 'Denim', 'Knit Dresses', 'Knit Tops', 'Woven Tops', 'Woven Dresses', 'Footwear', 'Bottoms']\n"
     ]
    }
   ],
   "source": [
    "# group by the category and sum the sale_counts and graph over time\n",
    "plt.figure(dpi = 150)\n",
    "legend_labels = []\n",
    "\n",
    "for name, group in trends_df.groupby(['category']):\n",
    "    if name in top_categories:\n",
    "        legend_labels.append(name)\n",
    "        category_df = group.groupby('launch_date')['sale_count'].sum().reset_index()\n",
    "        plt.plot(category_df.launch_date, category_df.sale_count)\n",
    "#         break\n",
    "plt.title(f'Number of recent sales for top {len(top_categories)} categories over time')\n",
    "plt.legend(legend_labels)\n",
    "plt.xticks(rotation = 70)\n",
    "plt.show();\n",
    "\n",
    "print(f'the complete list of categories: \\n {list(set(new_orders.category))}')"
   ]
  },
  {
   "cell_type": "markdown",
   "metadata": {
    "hidden": true
   },
   "source": [
    "But the question still remains...what trends was I able to identify??????"
   ]
  },
  {
   "cell_type": "markdown",
   "metadata": {
    "collapsed": true,
    "hidden": true
   },
   "source": [
    "Comparing the list of categories that emerged as consistently 'strong' products to all of the different categories, we see that most of the 'strong' products are most appropriate for winter/colder climates. from my intuition, and experience, I know that Winter clothes are valued for their quality. Perhaps this is a proxy for how much customers likes Everlane [Winter] products as they are consistently the top performers."
   ]
  },
  {
   "cell_type": "markdown",
   "metadata": {
    "hidden": true
   },
   "source": [
    "Some areas of opportunity regarding launching new products:\n",
    "1. Collecting more data to validate or refute claim that winter products are more valued because of quality\n",
    "2. Are most of the customers driving the revenue repeat customers or new customers\n",
    "3. How did they get to the site? What facilitated them to browse products and ultimately check out?\n",
    "4. i would be interested to know which price_bin does the best for each category to optimize on customer satisfaction"
   ]
  },
  {
   "cell_type": "code",
   "execution_count": 14,
   "metadata": {
    "ExecuteTime": {
     "end_time": "2018-11-17T00:35:03.299999Z",
     "start_time": "2018-11-17T00:35:03.294962Z"
    },
    "hidden": true
   },
   "outputs": [],
   "source": [
    "# i'm intersted in exploring the price_bins\n",
    "\n",
    "# trends_df.groupby('price_bin').sum()\n",
    "\n",
    "# for name, group in trends_df.groupby(['price_bin']):\n",
    "# #     if name in top_categories: \n",
    "# #         legend_labels.append(name)\n",
    "# #         print(name)\n",
    "#         category_df = group.groupby('launch_date')['sale_count'].sum().reset_index()\n",
    "#         plt.plot(category_df.launch_date, category_df.sale_count)\n",
    "#         break\n",
    "# # plt.title(f'Number of recent sales for top {len(top_categories)} categories over time')\n",
    "# # plt.legend(legend_labels)\n",
    "# plt.xticks(rotation = 70)\n",
    "# plt.show();"
   ]
  },
  {
   "cell_type": "code",
   "execution_count": null,
   "metadata": {
    "collapsed": true,
    "hidden": true
   },
   "outputs": [],
   "source": []
  },
  {
   "cell_type": "code",
   "execution_count": null,
   "metadata": {
    "collapsed": true,
    "hidden": true
   },
   "outputs": [],
   "source": []
  },
  {
   "cell_type": "markdown",
   "metadata": {
    "hidden": true
   },
   "source": [
    "I wonder if the weekday of when products are launched will affect sales"
   ]
  },
  {
   "cell_type": "code",
   "execution_count": null,
   "metadata": {
    "collapsed": true,
    "hidden": true
   },
   "outputs": [],
   "source": []
  },
  {
   "cell_type": "code",
   "execution_count": 15,
   "metadata": {
    "ExecuteTime": {
     "end_time": "2018-11-17T00:35:03.305328Z",
     "start_time": "2018-11-17T00:35:03.301913Z"
    },
    "hidden": true
   },
   "outputs": [],
   "source": [
    "# plt.plot(total_sales.launch_date, total_sales.total_order_count, '.');\n",
    "\n",
    "# i think it would be nice to plot a regression line to see the slope if it's trending upwards"
   ]
  },
  {
   "cell_type": "markdown",
   "metadata": {
    "hidden": true
   },
   "source": [
    "To identify trends, I am looking for categories that show up the most frequently in the top 3rd of sales of their 14 day launch period."
   ]
  },
  {
   "cell_type": "code",
   "execution_count": 16,
   "metadata": {
    "ExecuteTime": {
     "end_time": "2018-11-17T00:35:03.311716Z",
     "start_time": "2018-11-17T00:35:03.307698Z"
    },
    "collapsed": true,
    "hidden": true
   },
   "outputs": [],
   "source": [
    "# popular_n_categories = 7\n",
    "# popular_items = total_sales[:len(total_sales)//3] # to get the most popular 3rd\n",
    "\n",
    "# popular_items_counter = Counter(popular_items.category)\n",
    "# popular_items_counter = sorted(popular_items_counter.items(), key=lambda x: x[1], reverse = True)\n",
    "# popular_items_counter\n",
    "\n",
    "# popular_categories = ([category for category, _ in popular_items_counter[:popular_n_categories]])"
   ]
  },
  {
   "cell_type": "code",
   "execution_count": 17,
   "metadata": {
    "ExecuteTime": {
     "end_time": "2018-11-17T00:35:03.318959Z",
     "start_time": "2018-11-17T00:35:03.314055Z"
    },
    "hidden": true
   },
   "outputs": [],
   "source": [
    "# plt.figure(dpi = 100)\n",
    "\n",
    "# for name, grp in (total_sales.groupby(['category'])):\n",
    "#     if name in popular_categories:\n",
    "# #     if name == 'Knit Tops':\n",
    "#         plt.plot(grp['launch_date'], grp['total_order_count'], '.', label=name)\n",
    "\n",
    "# plt.title(f'Total Sales within {time_period} days of launch of top {popular_n_categories} categories')    \n",
    "# plt.legend();"
   ]
  },
  {
   "cell_type": "markdown",
   "metadata": {
    "hidden": true
   },
   "source": [
    "If I had more time, I would try to model this information by figuring out which features will make a product a 'success' as defined by having higher than average total sales. i think it would also be interesting to look at the projections for a product and compare it to how well it actually did"
   ]
  },
  {
   "cell_type": "markdown",
   "metadata": {
    "hidden": true
   },
   "source": [
    "#### Additionally, I know that new users drive revenue for Everlane as well. \n",
    "Therefore I think it's important to see how new_products fair for this segment of the market, and possibly compare it to not-new users as well. If there is a strong sales trend in non-new users, that could be an indicator of the 'strength' of the new product!"
   ]
  },
  {
   "cell_type": "markdown",
   "metadata": {
    "hidden": true
   },
   "source": [
    "One thing that I want to try is to look how how each product does against its mean"
   ]
  },
  {
   "cell_type": "markdown",
   "metadata": {},
   "source": [
    "## Question 2: New Customer Acquisition\n",
    "\n",
    "1. How would you measure the 'strength' of new customer acquisition?\n",
    "2. Based on this measurement, what would you say are the most valuable channels?\n",
    "3. What additional data would you like to look at to measure acqusition performance?"
   ]
  },
  {
   "cell_type": "markdown",
   "metadata": {
    "collapsed": true
   },
   "source": [
    "I would measure the 'strength' of new customer acquisition as how many unique times they come back to the site to more as well as how many items they've ordered in total from everlane"
   ]
  },
  {
   "cell_type": "markdown",
   "metadata": {},
   "source": [
    "I am able to join the two tables in SQL with the following query:"
   ]
  },
  {
   "cell_type": "code",
   "execution_count": 87,
   "metadata": {
    "ExecuteTime": {
     "end_time": "2018-11-17T01:21:34.168403Z",
     "start_time": "2018-11-17T01:21:34.091719Z"
    }
   },
   "outputs": [],
   "source": [
    "user_orders = pd.merge(orders_df, users_df, how='left', on='user_id')\n",
    "# user_orders"
   ]
  },
  {
   "cell_type": "markdown",
   "metadata": {},
   "source": [
    "I'd like to know which discovery channel category is able to acquire the most fruitful customers."
   ]
  },
  {
   "cell_type": "code",
   "execution_count": 19,
   "metadata": {
    "ExecuteTime": {
     "end_time": "2018-11-17T00:35:03.544967Z",
     "start_time": "2018-11-17T00:35:03.420849Z"
    }
   },
   "outputs": [
    {
     "data": {
      "image/png": "[encoded data removed]",
      "text/plain": [
       "<Figure size 432x288 with 1 Axes>"
      ]
     },
     "metadata": {},
     "output_type": "display_data"
    }
   ],
   "source": [
    "plt.hist(Counter(user_orders.user_id).values());"
   ]
  },
  {
   "cell_type": "code",
   "execution_count": 20,
   "metadata": {
    "ExecuteTime": {
     "end_time": "2018-11-17T00:35:03.556848Z",
     "start_time": "2018-11-17T00:35:03.547787Z"
    },
    "scrolled": true
   },
   "outputs": [],
   "source": [
    "# i need to get the number of orders that each user has made\n",
    "order_numbers = pd.DataFrame(user_orders['user_id'].value_counts().reset_index())\n",
    "order_numbers.rename(columns = {\n",
    "    'index': 'user_id',\n",
    "    'user_id': 'order_counts'\n",
    "}, inplace = True)"
   ]
  },
  {
   "cell_type": "code",
   "execution_count": 21,
   "metadata": {
    "ExecuteTime": {
     "end_time": "2018-11-17T00:35:03.598277Z",
     "start_time": "2018-11-17T00:35:03.558918Z"
    }
   },
   "outputs": [
    {
     "data": {
      "text/plain": [
       "7364"
      ]
     },
     "execution_count": 21,
     "metadata": {},
     "output_type": "execute_result"
    }
   ],
   "source": [
    "order_numbers = pd.merge(order_numbers, users_df, how = 'left', on = 'user_id')\n",
    "\n",
    "# users with only one order are not strong by definition so I will be excluding them from this analysis\n",
    "\n",
    "weak_mask = (order_numbers.order_counts >1)\n",
    "order_numbers = order_numbers[weak_mask]\n",
    "\n",
    "len(order_numbers)"
   ]
  },
  {
   "cell_type": "code",
   "execution_count": 22,
   "metadata": {
    "ExecuteTime": {
     "end_time": "2018-11-17T00:35:03.763518Z",
     "start_time": "2018-11-17T00:35:03.601831Z"
    },
    "scrolled": true
   },
   "outputs": [
    {
     "data": {
      "image/png": "[encoded data removed]",
      "text/plain": [
       "<Figure size 432x288 with 1 Axes>"
      ]
     },
     "metadata": {},
     "output_type": "display_data"
    }
   ],
   "source": [
    "# order_numbers.head(25)\n",
    "# there can be two levels of analysis in which you look at discover_channel_category and then discovery_channel\n",
    "\n",
    "order_numbers.discovery_channel.fillna(order_numbers.discovery_channel_category, inplace = True)\n",
    "# order_numbers.head(255)\n",
    "\n",
    "plt.plot(order_numbers.order_counts)\n",
    "plt.xlim(0,200)\n",
    "\n",
    "plt.show();"
   ]
  },
  {
   "cell_type": "code",
   "execution_count": 23,
   "metadata": {
    "ExecuteTime": {
     "end_time": "2018-11-17T00:35:04.003351Z",
     "start_time": "2018-11-17T00:35:03.765783Z"
    }
   },
   "outputs": [
    {
     "data": {
      "image/png": "[encoded data removed]",
      "text/plain": [
       "<Figure size 600x400 with 1 Axes>"
      ]
     },
     "metadata": {},
     "output_type": "display_data"
    }
   ],
   "source": [
    "# what if i compared the frequency of the disc channels in the top third to the bottom third \n",
    "# to see if there is some signal\n",
    "\n",
    "# recall that this is already sorted by the number of total orders of each user\n",
    "top_third = Counter(order_numbers[:len(order_numbers)//3].discovery_channel_category)\n",
    "bottom_third = Counter(order_numbers[len(order_numbers)//3 *2:].discovery_channel_category)\n",
    "\n",
    "\n",
    "plt.figure(dpi = 100)\n",
    "plt.bar(top_third.keys(), top_third.values(), alpha = 0.4, color = 'r')\n",
    "plt.bar(bottom_third.keys(), bottom_third.values(), alpha = 0.4, color = 'b')\n",
    "\n",
    "plt.legend({\n",
    "    'top third': 'r',\n",
    "    'bottom third': 'b'\n",
    "})\n",
    "plt.title('Comparing different disc channels cat between top third of orders and bottom third')\n",
    "plt.show();"
   ]
  },
  {
   "cell_type": "markdown",
   "metadata": {},
   "source": [
    "##### I also know that paid can be broken down even further so I want to make sure there are no hidden signals there"
   ]
  },
  {
   "cell_type": "code",
   "execution_count": 24,
   "metadata": {
    "ExecuteTime": {
     "end_time": "2018-11-17T00:35:04.223671Z",
     "start_time": "2018-11-17T00:35:04.009192Z"
    }
   },
   "outputs": [
    {
     "data": {
      "image/png": "[encoded data removed]",
      "text/plain": [
       "<Figure size 600x400 with 1 Axes>"
      ]
     },
     "metadata": {},
     "output_type": "display_data"
    }
   ],
   "source": [
    "top_third = Counter(order_numbers[:len(order_numbers)//3].discovery_channel)\n",
    "bottom_third = Counter(order_numbers[len(order_numbers)//3 * 2:].discovery_channel)\n",
    "\n",
    "plt.figure(dpi = 100)\n",
    "plt.bar(top_third.keys(), top_third.values(), alpha = 0.4, color = 'r')\n",
    "plt.bar(bottom_third.keys(), bottom_third.values(), alpha = 0.4, color = 'b')\n",
    "plt.xticks(rotation = 70)\n",
    "plt.legend({\n",
    "    'top third': 'r',\n",
    "    'bottom third': 'b'\n",
    "})\n",
    "plt.title('Comparing different disc channels between top third of orders and bottom third')\n",
    "plt.show();\n",
    "\n",
    "# why is there one user in the paid for top and bottom? there shouldnt be any 'paid' since it's broken down further"
   ]
  },
  {
   "cell_type": "code",
   "execution_count": 25,
   "metadata": {
    "ExecuteTime": {
     "end_time": "2018-11-17T00:35:04.233416Z",
     "start_time": "2018-11-17T00:35:04.225569Z"
    },
    "collapsed": true
   },
   "outputs": [],
   "source": [
    "# I would want to sum the total orders from direct and organic search to quantify just how valuble they are"
   ]
  },
  {
   "cell_type": "code",
   "execution_count": 26,
   "metadata": {
    "ExecuteTime": {
     "end_time": "2018-11-17T00:35:04.252655Z",
     "start_time": "2018-11-17T00:35:04.244106Z"
    }
   },
   "outputs": [],
   "source": [
    "# ok cool now that I know that there are clear winners, there are different ways of evaluating how well something did\n",
    "# i can talk about raw difference or i can talk about relative difference\n",
    "\n",
    "campaigns = pd.DataFrame(data = [top_third, bottom_third]).transpose()\n",
    "campaigns.rename(columns = {\n",
    "    0: 'top_third',\n",
    "    1: 'bottom_third'\n",
    "    \n",
    "}, inplace = True)"
   ]
  },
  {
   "cell_type": "code",
   "execution_count": 27,
   "metadata": {
    "ExecuteTime": {
     "end_time": "2018-11-17T00:35:04.272526Z",
     "start_time": "2018-11-17T00:35:04.256157Z"
    }
   },
   "outputs": [
    {
     "data": {
      "text/html": [
       "<div>\n",
       "<style scoped>\n",
       "    .dataframe tbody tr th:only-of-type {\n",
       "        vertical-align: middle;\n",
       "    }\n",
       "\n",
       "    .dataframe tbody tr th {\n",
       "        vertical-align: top;\n",
       "    }\n",
       "\n",
       "    .dataframe thead th {\n",
       "        text-align: right;\n",
       "    }\n",
       "</style>\n",
       "<table border=\"1\" class=\"dataframe\">\n",
       "  <thead>\n",
       "    <tr style=\"text-align: right;\">\n",
       "      <th></th>\n",
       "      <th>top_third</th>\n",
       "      <th>bottom_third</th>\n",
       "      <th>abs_difference</th>\n",
       "      <th>rel_difference</th>\n",
       "    </tr>\n",
       "  </thead>\n",
       "  <tbody>\n",
       "    <tr>\n",
       "      <th>affiliate</th>\n",
       "      <td>229</td>\n",
       "      <td>256</td>\n",
       "      <td>-27</td>\n",
       "      <td>-0.117904</td>\n",
       "    </tr>\n",
       "    <tr>\n",
       "      <th>direct</th>\n",
       "      <td>657</td>\n",
       "      <td>628</td>\n",
       "      <td>29</td>\n",
       "      <td>0.046178</td>\n",
       "    </tr>\n",
       "    <tr>\n",
       "      <th>display</th>\n",
       "      <td>101</td>\n",
       "      <td>95</td>\n",
       "      <td>6</td>\n",
       "      <td>0.063158</td>\n",
       "    </tr>\n",
       "    <tr>\n",
       "      <th>email</th>\n",
       "      <td>224</td>\n",
       "      <td>229</td>\n",
       "      <td>-5</td>\n",
       "      <td>-0.022321</td>\n",
       "    </tr>\n",
       "    <tr>\n",
       "      <th>organic search</th>\n",
       "      <td>718</td>\n",
       "      <td>630</td>\n",
       "      <td>88</td>\n",
       "      <td>0.139683</td>\n",
       "    </tr>\n",
       "  </tbody>\n",
       "</table>\n",
       "</div>"
      ],
      "text/plain": [
       "                top_third  bottom_third  abs_difference  rel_difference\n",
       "affiliate             229           256             -27       -0.117904\n",
       "direct                657           628              29        0.046178\n",
       "display               101            95               6        0.063158\n",
       "email                 224           229              -5       -0.022321\n",
       "organic search        718           630              88        0.139683"
      ]
     },
     "execution_count": 27,
     "metadata": {},
     "output_type": "execute_result"
    }
   ],
   "source": [
    "campaigns['abs_difference'] = campaigns.top_third - campaigns.bottom_third\n",
    "campaigns['rel_difference'] = (campaigns.top_third - campaigns.bottom_third) / campaigns[['top_third','bottom_third']].min(axis = 1)\n",
    "campaigns.head()"
   ]
  },
  {
   "cell_type": "markdown",
   "metadata": {},
   "source": [
    "Organic does well in absolute difference and relative difference.\n",
    "\n",
    "I think it's interesting to see that direct generates more power customers than display in terms of absolute difference, but the opposite is true when you look at relative difference.\n",
    "\n"
   ]
  },
  {
   "cell_type": "markdown",
   "metadata": {},
   "source": [
    "3. What additional data would you like to look at to acquisition performance?\n",
    "\n",
    "I would want to see what customers are searching for, and what they ultimately bought which i can do rn with the data at hand"
   ]
  },
  {
   "cell_type": "markdown",
   "metadata": {},
   "source": [
    "I'd like to know which channels are able to target customers who respond better to email newsletters"
   ]
  },
  {
   "cell_type": "markdown",
   "metadata": {},
   "source": [
    "## Question 3: Customer segments\n",
    "\n",
    "1. Our marketing team is interested in creating a new email campaign focused on\n",
    "“Shoe (Footwear) Lovers”. Using the data at hand, what is a way that we can\n",
    "identify shoe lovers?\n",
    "2. Let’s say we wanted to generalize this campaign to every category in our product\n",
    "catalog (i.e. Shoe Lovers, Sweater Lovers, etc.). Please write code that will\n",
    "generate three lists of user_ids: one of Shoe (Footwear) Lovers, one of Sweater\n",
    "Lovers, and one of Knit Top Lovers. Bonus points if you can generalize this\n",
    "across all categories."
   ]
  },
  {
   "cell_type": "markdown",
   "metadata": {},
   "source": [
    "1. A naive way to identify 'shoe lovers' would be to see who orders the most shoes.\n",
    "2. Another way would be to see of all the things the person has ordered, who had the high prop of shoes.\n",
    "3. Another way would be to see who has the highest proportion of shoe orders in each order."
   ]
  },
  {
   "cell_type": "code",
   "execution_count": 39,
   "metadata": {
    "ExecuteTime": {
     "end_time": "2018-11-17T01:00:04.495894Z",
     "start_time": "2018-11-17T01:00:04.479713Z"
    }
   },
   "outputs": [
    {
     "data": {
      "text/html": [
       "<div>\n",
       "<style scoped>\n",
       "    .dataframe tbody tr th:only-of-type {\n",
       "        vertical-align: middle;\n",
       "    }\n",
       "\n",
       "    .dataframe tbody tr th {\n",
       "        vertical-align: top;\n",
       "    }\n",
       "\n",
       "    .dataframe thead th {\n",
       "        text-align: right;\n",
       "    }\n",
       "</style>\n",
       "<table border=\"1\" class=\"dataframe\">\n",
       "  <thead>\n",
       "    <tr style=\"text-align: right;\">\n",
       "      <th></th>\n",
       "      <th>line_item_id</th>\n",
       "      <th>order_id</th>\n",
       "      <th>completed_at</th>\n",
       "      <th>user_id</th>\n",
       "      <th>quantity</th>\n",
       "      <th>price</th>\n",
       "      <th>style_id</th>\n",
       "      <th>order_channel</th>\n",
       "      <th>order_channel_category</th>\n",
       "      <th>style</th>\n",
       "      <th>category</th>\n",
       "      <th>launch_date</th>\n",
       "      <th>time_since_launch</th>\n",
       "      <th>days_since_launch</th>\n",
       "    </tr>\n",
       "  </thead>\n",
       "  <tbody>\n",
       "    <tr>\n",
       "      <th>0</th>\n",
       "      <td>14134747</td>\n",
       "      <td>2874138</td>\n",
       "      <td>2016-12-29 14:54:22</td>\n",
       "      <td>1444626</td>\n",
       "      <td>1</td>\n",
       "      <td>25.0</td>\n",
       "      <td>447</td>\n",
       "      <td>other</td>\n",
       "      <td>paid</td>\n",
       "      <td>The Pima Stretch Mid-Sleeve</td>\n",
       "      <td>Knit Tops</td>\n",
       "      <td>2016-01-26</td>\n",
       "      <td>338 days 14:54:22</td>\n",
       "      <td>338</td>\n",
       "    </tr>\n",
       "    <tr>\n",
       "      <th>1</th>\n",
       "      <td>17240079</td>\n",
       "      <td>3506498</td>\n",
       "      <td>2017-09-05 19:00:51</td>\n",
       "      <td>1125825</td>\n",
       "      <td>1</td>\n",
       "      <td>68.0</td>\n",
       "      <td>944</td>\n",
       "      <td>search</td>\n",
       "      <td>paid</td>\n",
       "      <td>The Cotton Turtleneck</td>\n",
       "      <td>Sweaters</td>\n",
       "      <td>2017-08-10</td>\n",
       "      <td>26 days 19:00:51</td>\n",
       "      <td>26</td>\n",
       "    </tr>\n",
       "    <tr>\n",
       "      <th>2</th>\n",
       "      <td>20017564</td>\n",
       "      <td>4020991</td>\n",
       "      <td>2017-12-27 17:41:00</td>\n",
       "      <td>2521400</td>\n",
       "      <td>1</td>\n",
       "      <td>88.0</td>\n",
       "      <td>890</td>\n",
       "      <td>search</td>\n",
       "      <td>paid</td>\n",
       "      <td>The Silk Long-Sleeve Blouse</td>\n",
       "      <td>Woven Tops</td>\n",
       "      <td>2017-09-14</td>\n",
       "      <td>104 days 17:41:00</td>\n",
       "      <td>104</td>\n",
       "    </tr>\n",
       "    <tr>\n",
       "      <th>3</th>\n",
       "      <td>19281489</td>\n",
       "      <td>3858476</td>\n",
       "      <td>2017-12-01 18:53:11</td>\n",
       "      <td>2222476</td>\n",
       "      <td>1</td>\n",
       "      <td>62.0</td>\n",
       "      <td>640</td>\n",
       "      <td>other</td>\n",
       "      <td>paid</td>\n",
       "      <td>The Ribbed Wool-Cashmere Sleeveless Turtleneck</td>\n",
       "      <td>Sweaters</td>\n",
       "      <td>2016-10-24</td>\n",
       "      <td>403 days 18:53:11</td>\n",
       "      <td>403</td>\n",
       "    </tr>\n",
       "    <tr>\n",
       "      <th>4</th>\n",
       "      <td>15018380</td>\n",
       "      <td>3047663</td>\n",
       "      <td>2017-03-26 15:38:13</td>\n",
       "      <td>1854949</td>\n",
       "      <td>1</td>\n",
       "      <td>100.0</td>\n",
       "      <td>650</td>\n",
       "      <td>affiliate</td>\n",
       "      <td>paid</td>\n",
       "      <td>The Cashmere Crew</td>\n",
       "      <td>Sweaters</td>\n",
       "      <td>2016-10-03</td>\n",
       "      <td>174 days 15:38:13</td>\n",
       "      <td>174</td>\n",
       "    </tr>\n",
       "  </tbody>\n",
       "</table>\n",
       "</div>"
      ],
      "text/plain": [
       "   line_item_id  order_id        completed_at  user_id  quantity  price  \\\n",
       "0      14134747   2874138 2016-12-29 14:54:22  1444626         1   25.0   \n",
       "1      17240079   3506498 2017-09-05 19:00:51  1125825         1   68.0   \n",
       "2      20017564   4020991 2017-12-27 17:41:00  2521400         1   88.0   \n",
       "3      19281489   3858476 2017-12-01 18:53:11  2222476         1   62.0   \n",
       "4      15018380   3047663 2017-03-26 15:38:13  1854949         1  100.0   \n",
       "\n",
       "   style_id order_channel order_channel_category  \\\n",
       "0       447         other                   paid   \n",
       "1       944        search                   paid   \n",
       "2       890        search                   paid   \n",
       "3       640         other                   paid   \n",
       "4       650     affiliate                   paid   \n",
       "\n",
       "                                            style    category launch_date  \\\n",
       "0                     The Pima Stretch Mid-Sleeve   Knit Tops  2016-01-26   \n",
       "1                           The Cotton Turtleneck    Sweaters  2017-08-10   \n",
       "2                     The Silk Long-Sleeve Blouse  Woven Tops  2017-09-14   \n",
       "3  The Ribbed Wool-Cashmere Sleeveless Turtleneck    Sweaters  2016-10-24   \n",
       "4                               The Cashmere Crew    Sweaters  2016-10-03   \n",
       "\n",
       "  time_since_launch  days_since_launch  \n",
       "0 338 days 14:54:22                338  \n",
       "1  26 days 19:00:51                 26  \n",
       "2 104 days 17:41:00                104  \n",
       "3 403 days 18:53:11                403  \n",
       "4 174 days 15:38:13                174  "
      ]
     },
     "execution_count": 39,
     "metadata": {},
     "output_type": "execute_result"
    }
   ],
   "source": [
    "detailed_orders.head()"
   ]
  },
  {
   "cell_type": "code",
   "execution_count": 41,
   "metadata": {
    "ExecuteTime": {
     "end_time": "2018-11-17T01:00:52.745224Z",
     "start_time": "2018-11-17T01:00:52.732623Z"
    }
   },
   "outputs": [
    {
     "name": "stdout",
     "output_type": "stream",
     "text": [
      "there are 44 shoe products in the inventory\n"
     ]
    }
   ],
   "source": [
    "footwear_mask = (detailed_orders.category == 'Footwear')\n",
    "shoes_ids = list(set(products_df[footwear_mask].style_id))\n",
    "print(f'there are {len(shoes_ids)} shoe products in the inventory')"
   ]
  },
  {
   "cell_type": "code",
   "execution_count": 89,
   "metadata": {
    "ExecuteTime": {
     "end_time": "2018-11-17T01:22:26.050824Z",
     "start_time": "2018-11-17T01:22:26.043272Z"
    },
    "scrolled": true
   },
   "outputs": [],
   "source": [
    "top_n_shoes = 20\n",
    "\n",
    "\n",
    "shoe_orders = detailed_orders[footwear_mask]\n",
    "# shoe_orders.user_id.value_counts()[:top_n_shoes].index\n",
    "\n",
    "# if you want to see how many they've each ordered uncomment below and run\n",
    "# shoe_orders.user_id.value_counts()[:top_n_shoes]"
   ]
  },
  {
   "cell_type": "code",
   "execution_count": 45,
   "metadata": {
    "ExecuteTime": {
     "end_time": "2018-11-17T01:02:23.577349Z",
     "start_time": "2018-11-17T01:02:23.573919Z"
    },
    "collapsed": true
   },
   "outputs": [],
   "source": [
    "# i think i would first filter out the users who've only made one purchase, \n",
    "# and use that user_id to see who has the highest proportion of shoes ordered per order"
   ]
  },
  {
   "cell_type": "code",
   "execution_count": 82,
   "metadata": {
    "ExecuteTime": {
     "end_time": "2018-11-17T01:17:19.960842Z",
     "start_time": "2018-11-17T01:17:19.952548Z"
    }
   },
   "outputs": [],
   "source": [
    "# now i get to write a function that takes a category and the top n and returns a dataframe of users and their shoe orders\n",
    "\n",
    "\n",
    "def get_lovers(category, top_n = 20):\n",
    "    '''\n",
    "    this function will take a category of interest, and the desired number of top users, and return a list of\n",
    "    the users who have ordered the most shoes logged\n",
    "    '''\n",
    "    \n",
    "    # first I will need to check if user entered legitimate category\n",
    "    \n",
    "    if category not in products_df.category.values:\n",
    "        return f'please choose from these acceptable categories: {list(set(products_df.category.values))}'\n",
    "    \n",
    "    category_mask = (detailed_orders.category == str(category))\n",
    "    category_orders = detailed_orders[category_mask]\n",
    "    return(list(category_orders.user_id.value_counts()[:top_n].index))"
   ]
  },
  {
   "cell_type": "code",
   "execution_count": 86,
   "metadata": {
    "ExecuteTime": {
     "end_time": "2018-11-17T01:18:00.811785Z",
     "start_time": "2018-11-17T01:18:00.788498Z"
    },
    "scrolled": true
   },
   "outputs": [
    {
     "name": "stdout",
     "output_type": "stream",
     "text": [
      "shoe lovers: [2310078, 1576624, 1606011, 1548818, 1372378, 885051, 1483528, 1462133, 524689, 1438942, 1382408, 2406632, 1696448, 1637181, 1446630, 1857884, 1520338, 1802088, 859440, 2393810] \n",
      "\n",
      "sweater lovers: [2310078, 1576624, 524689, 1357604, 1743144, 1566047, 1520338, 1483528, 1557392, 1462635, 1652669, 1569924, 482580, 1462133, 1782187, 1523395, 1478503, 1648366, 2367162, 1548818] \n",
      "\n",
      "knit top lovers: [1576624, 2310078, 1730131, 1483528, 1801854, 1676208, 1323027, 1462133, 1357604, 523733, 1609872, 1822203, 1310503, 1418633, 2116933, 1382408, 1357480, 1441162, 1995434, 1419271]\n"
     ]
    }
   ],
   "source": [
    "# test\n",
    "\n",
    "# get_lovers('Uniqlo')\n",
    "# get_lovers('Footwear')\n",
    "\n",
    "shoe_lovers = get_lovers('Footwear')\n",
    "sweater_lovers = get_lovers('Sweaters')\n",
    "knit_top_lovers = get_lovers('Knit Tops')\n",
    "\n",
    "print(f'shoe lovers: {shoe_lovers} \\n\\nsweater lovers: {sweater_lovers} \\n\\nknit top lovers: {knit_top_lovers}')"
   ]
  },
  {
   "cell_type": "markdown",
   "metadata": {},
   "source": [
    "## Question 4: Experimentation\n",
    "\n",
    "1. In order to measure the success of this new Shoe Lover email campaign, we\n",
    "would like to create an a/b test. How would you design an experiment to\n",
    "measure the impact of such a campaign? Please include explanation for how\n",
    "you would collect and store data in order to measure such impact."
   ]
  },
  {
   "cell_type": "code",
   "execution_count": null,
   "metadata": {
    "collapsed": true
   },
   "outputs": [],
   "source": []
  },
  {
   "cell_type": "code",
   "execution_count": null,
   "metadata": {
    "collapsed": true
   },
   "outputs": [],
   "source": []
  },
  {
   "cell_type": "code",
   "execution_count": null,
   "metadata": {
    "collapsed": true
   },
   "outputs": [],
   "source": []
  },
  {
   "cell_type": "code",
   "execution_count": null,
   "metadata": {
    "collapsed": true
   },
   "outputs": [],
   "source": []
  },
  {
   "cell_type": "code",
   "execution_count": null,
   "metadata": {
    "collapsed": true
   },
   "outputs": [],
   "source": []
  }
 ],
 "metadata": {
  "kernelspec": {
   "display_name": "Python 3",
   "language": "python",
   "name": "python3"
  },
  "language_info": {
   "codemirror_mode": {
    "name": "ipython",
    "version": 3
   },
   "file_extension": ".py",
   "mimetype": "text/x-python",
   "name": "python",
   "nbconvert_exporter": "python",
   "pygments_lexer": "ipython3",
   "version": "3.6.3"
  },
  "varInspector": {
   "cols": {
    "lenName": 16,
    "lenType": 16,
    "lenVar": 40
   },
   "kernels_config": {
    "python": {
     "delete_cmd_postfix": "",
     "delete_cmd_prefix": "del ",
     "library": "var_list.py",
     "varRefreshCmd": "print(var_dic_list())"
    },
    "r": {
     "delete_cmd_postfix": ") ",
     "delete_cmd_prefix": "rm(",
     "library": "var_list.r",
     "varRefreshCmd": "cat(var_dic_list()) "
    }
   },
   "types_to_exclude": [
    "module",
    "function",
    "builtin_function_or_method",
    "instance",
    "_Feature"
   ],
   "window_display": false
  }
 },
 "nbformat": 4,
 "nbformat_minor": 2
}
