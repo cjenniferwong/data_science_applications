{
 "cells": [
  {
   "cell_type": "markdown",
   "metadata": {},
   "source": [
    "# Jenn Wong\n",
    "jennwong@berkeley.edu"
   ]
  },
  {
   "cell_type": "markdown",
   "metadata": {},
   "source": [
    "Data was gathered from Everlane Mode SQL database from running\n",
    "\n",
    "select * from {database};"
   ]
  },
  {
   "cell_type": "code",
   "execution_count": 2,
   "metadata": {
    "ExecuteTime": {
     "end_time": "2018-11-15T04:29:02.279791Z",
     "start_time": "2018-11-15T04:29:02.275578Z"
    }
   },
   "outputs": [],
   "source": [
    "import pandas as pd\n",
    "\n",
    "import warnings\n",
    "warnings.filterwarnings('ignore')"
   ]
  },
  {
   "cell_type": "code",
   "execution_count": 10,
   "metadata": {
    "ExecuteTime": {
     "end_time": "2018-11-15T04:30:56.649317Z",
     "start_time": "2018-11-15T04:30:56.485415Z"
    },
    "collapsed": true
   },
   "outputs": [],
   "source": [
    "users_df = pd.read_csv('users.csv')\n",
    "orders_df = pd.read_csv('orders.csv')\n",
    "products_df = pd.read_csv('products.csv')"
   ]
  },
  {
   "cell_type": "code",
   "execution_count": 11,
   "metadata": {
    "ExecuteTime": {
     "end_time": "2018-11-15T04:30:58.327930Z",
     "start_time": "2018-11-15T04:30:58.316213Z"
    }
   },
   "outputs": [
    {
     "data": {
      "text/html": [
       "<div>\n",
       "<style scoped>\n",
       "    .dataframe tbody tr th:only-of-type {\n",
       "        vertical-align: middle;\n",
       "    }\n",
       "\n",
       "    .dataframe tbody tr th {\n",
       "        vertical-align: top;\n",
       "    }\n",
       "\n",
       "    .dataframe thead th {\n",
       "        text-align: right;\n",
       "    }\n",
       "</style>\n",
       "<table border=\"1\" class=\"dataframe\">\n",
       "  <thead>\n",
       "    <tr style=\"text-align: right;\">\n",
       "      <th></th>\n",
       "      <th>user_id</th>\n",
       "      <th>discovery_channel_category</th>\n",
       "      <th>discovery_channel</th>\n",
       "      <th>discovery_time</th>\n",
       "      <th>discovery_platform</th>\n",
       "      <th>location</th>\n",
       "      <th>gender</th>\n",
       "    </tr>\n",
       "  </thead>\n",
       "  <tbody>\n",
       "    <tr>\n",
       "      <th>0</th>\n",
       "      <td>1957598</td>\n",
       "      <td>paid</td>\n",
       "      <td>other</td>\n",
       "      <td>2017-05-10 07:23:23</td>\n",
       "      <td>desktop</td>\n",
       "      <td>US</td>\n",
       "      <td>female</td>\n",
       "    </tr>\n",
       "    <tr>\n",
       "      <th>1</th>\n",
       "      <td>1771115</td>\n",
       "      <td>paid</td>\n",
       "      <td>affiliate</td>\n",
       "      <td>2017-02-15 16:33:02</td>\n",
       "      <td>mobile</td>\n",
       "      <td>US</td>\n",
       "      <td>female</td>\n",
       "    </tr>\n",
       "    <tr>\n",
       "      <th>2</th>\n",
       "      <td>1489936</td>\n",
       "      <td>direct</td>\n",
       "      <td>NaN</td>\n",
       "      <td>2016-09-13 16:07:53</td>\n",
       "      <td>desktop</td>\n",
       "      <td>US</td>\n",
       "      <td>female</td>\n",
       "    </tr>\n",
       "    <tr>\n",
       "      <th>3</th>\n",
       "      <td>2356025</td>\n",
       "      <td>paid</td>\n",
       "      <td>search</td>\n",
       "      <td>2017-10-12 17:13:53</td>\n",
       "      <td>desktop</td>\n",
       "      <td>US</td>\n",
       "      <td>female</td>\n",
       "    </tr>\n",
       "    <tr>\n",
       "      <th>4</th>\n",
       "      <td>1463297</td>\n",
       "      <td>organic search</td>\n",
       "      <td>NaN</td>\n",
       "      <td>2016-08-17 07:06:25</td>\n",
       "      <td>desktop</td>\n",
       "      <td>international</td>\n",
       "      <td>female</td>\n",
       "    </tr>\n",
       "  </tbody>\n",
       "</table>\n",
       "</div>"
      ],
      "text/plain": [
       "   user_id discovery_channel_category discovery_channel       discovery_time  \\\n",
       "0  1957598                       paid             other  2017-05-10 07:23:23   \n",
       "1  1771115                       paid         affiliate  2017-02-15 16:33:02   \n",
       "2  1489936                     direct               NaN  2016-09-13 16:07:53   \n",
       "3  2356025                       paid            search  2017-10-12 17:13:53   \n",
       "4  1463297             organic search               NaN  2016-08-17 07:06:25   \n",
       "\n",
       "  discovery_platform       location  gender  \n",
       "0            desktop             US  female  \n",
       "1             mobile             US  female  \n",
       "2            desktop             US  female  \n",
       "3            desktop             US  female  \n",
       "4            desktop  international  female  "
      ]
     },
     "execution_count": 11,
     "metadata": {},
     "output_type": "execute_result"
    }
   ],
   "source": [
    "users_df.head()"
   ]
  },
  {
   "cell_type": "code",
   "execution_count": 39,
   "metadata": {
    "ExecuteTime": {
     "end_time": "2018-11-15T04:49:35.840549Z",
     "start_time": "2018-11-15T04:49:35.835257Z"
    }
   },
   "outputs": [],
   "source": [
    "orders_df.head()\n",
    "\n",
    "# this is a string and should be date-time for easier analysis\n",
    "orders_df.completed_at = pd.to_datetime(orders_df.completed_at) "
   ]
  },
  {
   "cell_type": "code",
   "execution_count": 13,
   "metadata": {
    "ExecuteTime": {
     "end_time": "2018-11-15T04:31:03.434170Z",
     "start_time": "2018-11-15T04:31:03.421033Z"
    }
   },
   "outputs": [
    {
     "data": {
      "text/html": [
       "<div>\n",
       "<style scoped>\n",
       "    .dataframe tbody tr th:only-of-type {\n",
       "        vertical-align: middle;\n",
       "    }\n",
       "\n",
       "    .dataframe tbody tr th {\n",
       "        vertical-align: top;\n",
       "    }\n",
       "\n",
       "    .dataframe thead th {\n",
       "        text-align: right;\n",
       "    }\n",
       "</style>\n",
       "<table border=\"1\" class=\"dataframe\">\n",
       "  <thead>\n",
       "    <tr style=\"text-align: right;\">\n",
       "      <th></th>\n",
       "      <th>style_id</th>\n",
       "      <th>style</th>\n",
       "      <th>category</th>\n",
       "      <th>launch_date</th>\n",
       "    </tr>\n",
       "  </thead>\n",
       "  <tbody>\n",
       "    <tr>\n",
       "      <th>0</th>\n",
       "      <td>592</td>\n",
       "      <td>The Premium Wool Flannel Pinstripe Track Pant</td>\n",
       "      <td>Bottoms</td>\n",
       "      <td>2016-09-19 00:00:00</td>\n",
       "    </tr>\n",
       "    <tr>\n",
       "      <th>1</th>\n",
       "      <td>572</td>\n",
       "      <td>The Luxe Drape Cropped Scoop-Neck Tee</td>\n",
       "      <td>Knit Tops</td>\n",
       "      <td>2016-07-26 00:00:00</td>\n",
       "    </tr>\n",
       "    <tr>\n",
       "      <th>2</th>\n",
       "      <td>645</td>\n",
       "      <td>The Cashmere Cardigan</td>\n",
       "      <td>Sweaters</td>\n",
       "      <td>2016-10-10 00:00:00</td>\n",
       "    </tr>\n",
       "    <tr>\n",
       "      <th>3</th>\n",
       "      <td>435</td>\n",
       "      <td>The Modern Flannel Shirt</td>\n",
       "      <td>Shirting</td>\n",
       "      <td>2016-02-25 00:00:00</td>\n",
       "    </tr>\n",
       "    <tr>\n",
       "      <th>4</th>\n",
       "      <td>874</td>\n",
       "      <td>The Pleated Midi Skirt</td>\n",
       "      <td>Bottoms</td>\n",
       "      <td>2017-08-24 00:00:00</td>\n",
       "    </tr>\n",
       "  </tbody>\n",
       "</table>\n",
       "</div>"
      ],
      "text/plain": [
       "   style_id                                          style   category  \\\n",
       "0       592  The Premium Wool Flannel Pinstripe Track Pant    Bottoms   \n",
       "1       572          The Luxe Drape Cropped Scoop-Neck Tee  Knit Tops   \n",
       "2       645                          The Cashmere Cardigan   Sweaters   \n",
       "3       435                       The Modern Flannel Shirt   Shirting   \n",
       "4       874                         The Pleated Midi Skirt    Bottoms   \n",
       "\n",
       "           launch_date  \n",
       "0  2016-09-19 00:00:00  \n",
       "1  2016-07-26 00:00:00  \n",
       "2  2016-10-10 00:00:00  \n",
       "3  2016-02-25 00:00:00  \n",
       "4  2017-08-24 00:00:00  "
      ]
     },
     "execution_count": 13,
     "metadata": {},
     "output_type": "execute_result"
    }
   ],
   "source": [
    "products_df.head()"
   ]
  },
  {
   "cell_type": "code",
   "execution_count": 16,
   "metadata": {
    "ExecuteTime": {
     "end_time": "2018-11-15T04:31:48.480348Z",
     "start_time": "2018-11-15T04:31:48.470162Z"
    }
   },
   "outputs": [
    {
     "name": "stdout",
     "output_type": "stream",
     "text": [
      "<class 'pandas.core.frame.DataFrame'>\n",
      "RangeIndex: 455 entries, 0 to 454\n",
      "Data columns (total 4 columns):\n",
      "style_id       455 non-null int64\n",
      "style          455 non-null object\n",
      "category       455 non-null object\n",
      "launch_date    455 non-null datetime64[ns]\n",
      "dtypes: datetime64[ns](1), int64(1), object(2)\n",
      "memory usage: 14.3+ KB\n"
     ]
    }
   ],
   "source": [
    "products_df.info() # this shows me that I need to change the launch_date column into datetime\n",
    "\n",
    "\n",
    "products_df.launch_date = pd.to_datetime(products_df.launch_date)"
   ]
  },
  {
   "cell_type": "markdown",
   "metadata": {},
   "source": [
    "## Question 1: New Product Launches\n",
    "\n",
    "1. How would you measure the strength of a new product?\n",
    "\n"
   ]
  },
  {
   "cell_type": "markdown",
   "metadata": {},
   "source": [
    "I will be defining the 'strength' of the new product as number of sales in the first two weeks of launch (because I know that Everlane releases new products every week and constitutes a large part of its revenue). This will allow me to see how it performs as a 'new product' as well as an 'old-er product' and identify seasonal trends (if any) in the week.\n",
    "\n",
    "In order to answer this question, I need to get metadata on the products that were ordered. I will be joining the orders_df with the products_df on 'style_id' in order to get the data that I need."
   ]
  },
  {
   "cell_type": "code",
   "execution_count": 54,
   "metadata": {
    "ExecuteTime": {
     "end_time": "2018-11-15T04:56:08.948695Z",
     "start_time": "2018-11-15T04:56:08.932575Z"
    },
    "collapsed": true
   },
   "outputs": [],
   "source": [
    "detailed_orders = pd.merge(orders_df, products_df, how = 'left', on  = 'style_id')"
   ]
  },
  {
   "cell_type": "code",
   "execution_count": 70,
   "metadata": {
    "ExecuteTime": {
     "end_time": "2018-11-15T05:01:15.394109Z",
     "start_time": "2018-11-15T05:01:15.088989Z"
    }
   },
   "outputs": [
    {
     "name": "stdout",
     "output_type": "stream",
     "text": [
      "I started with 43548 number of orders. I now have 6014 rows of recent orders\n"
     ]
    }
   ],
   "source": [
    "time_period = 14 # this is the number of days after launch that I care about\n",
    "\n",
    "detailed_orders['time_since_launch'] = (detailed_orders.completed_at - detailed_orders.launch_date)\n",
    "\n",
    "\n",
    "# i only care about the days since launch and not such a high resolution\n",
    "def get_days(date_time_object):\n",
    "    \"\"\"\n",
    "    this function takes a datetime object and returns the days\n",
    "    \"\"\"\n",
    "    return date_time_object.days\n",
    "\n",
    "detailed_orders['days_since_launch'] = detailed_orders.time_since_launch.apply(get_days)\n",
    "\n",
    "new_orders = detailed_orders[detailed_orders.days_since_launch <= time_period]\n",
    "\n",
    "print(f'I started with {len(detailed_orders)} number of orders. I now have {len(new_orders)} rows of recent orders')\n",
    "# len(new_orders"
   ]
  },
  {
   "cell_type": "code",
   "execution_count": 21,
   "metadata": {
    "ExecuteTime": {
     "end_time": "2018-11-15T04:43:29.624740Z",
     "start_time": "2018-11-15T04:43:29.612251Z"
    }
   },
   "outputs": [
    {
     "name": "stdout",
     "output_type": "stream",
     "text": [
      "433\n"
     ]
    }
   ],
   "source": [
    "# so now I need to find the count of sales for each day over two weeks after launch for each product\n",
    "new_orders"
   ]
  },
  {
   "cell_type": "code",
   "execution_count": 42,
   "metadata": {
    "ExecuteTime": {
     "end_time": "2018-11-15T04:51:21.041209Z",
     "start_time": "2018-11-15T04:51:21.035772Z"
    }
   },
   "outputs": [
    {
     "data": {
      "text/plain": [
       "338"
      ]
     },
     "execution_count": 42,
     "metadata": {},
     "output_type": "execute_result"
    }
   ],
   "source": [
    "(detailed_orders.completed_at[0] - detailed_orders.launch_date[0]).days"
   ]
  },
  {
   "cell_type": "markdown",
   "metadata": {
    "heading_collapsed": true
   },
   "source": [
    "#### Additionally, I know that new users drive revenue for Everlane as well. \n",
    "Therefore I think it's important to see how new_products fair for this segment of the market, and possibly compare it to not-new users as well. If there is a strong sales trend in non-new users, that could be an indicator of the 'strength' of the new product!"
   ]
  },
  {
   "cell_type": "code",
   "execution_count": null,
   "metadata": {
    "collapsed": true,
    "hidden": true
   },
   "outputs": [],
   "source": []
  }
 ],
 "metadata": {
  "kernelspec": {
   "display_name": "Python 3",
   "language": "python",
   "name": "python3"
  },
  "language_info": {
   "codemirror_mode": {
    "name": "ipython",
    "version": 3
   },
   "file_extension": ".py",
   "mimetype": "text/x-python",
   "name": "python",
   "nbconvert_exporter": "python",
   "pygments_lexer": "ipython3",
   "version": "3.6.3"
  },
  "varInspector": {
   "cols": {
    "lenName": 16,
    "lenType": 16,
    "lenVar": 40
   },
   "kernels_config": {
    "python": {
     "delete_cmd_postfix": "",
     "delete_cmd_prefix": "del ",
     "library": "var_list.py",
     "varRefreshCmd": "print(var_dic_list())"
    },
    "r": {
     "delete_cmd_postfix": ") ",
     "delete_cmd_prefix": "rm(",
     "library": "var_list.r",
     "varRefreshCmd": "cat(var_dic_list()) "
    }
   },
   "types_to_exclude": [
    "module",
    "function",
    "builtin_function_or_method",
    "instance",
    "_Feature"
   ],
   "window_display": false
  }
 },
 "nbformat": 4,
 "nbformat_minor": 2
}
