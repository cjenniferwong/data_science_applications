{
 "cells": [
  {
   "cell_type": "markdown",
   "metadata": {},
   "source": [
    "# November 2nd, 2018"
   ]
  },
  {
   "cell_type": "markdown",
   "metadata": {},
   "source": [
    "Practicing mindfulness and understanding/exploring the law of attraction.\n",
    "\n",
    "I think it's no secret that I have pretty low self-esteem. Especially when it comes to programming and how I'm evaluated on my technical ability. I think this is pretty interesting because no other domain inspires as much fear or doubt as this one. Of course I've encountered situations in which I am clearly not the best, but I have never let my current situation dictate my apititude nor professional trajectory. \n",
    "\n",
    "So what is it about this field that is causing so much mental stress and dissonance? Why is it that I cannot fathom being sufficient despite 'ample' evidence that supports this claim?"
   ]
  },
  {
   "cell_type": "markdown",
   "metadata": {},
   "source": [
    "So, to combat this, let's just give the law of attraction a chance, and see what becomes of it--I have nothing else to lose and everything to gain.\n",
    "\n",
    "I must align my feelings, thoughts, and actions and believe that what I hope and wish for myself will manifest. That way I will be prepared to take the opportunity when it comes my way.\n",
    "\n",
    "That being said, what do I have to do in preparation for this? I know that I just submitted my takehome and afterwards I would need to schedule a phone call with Pria for technical assessment. \n",
    "\n",
    "Peter gave me hints into what this would entail so I know what I need to focus my energy on, and I can supplement it with my personalilty and research into who Pria is as a person."
   ]
  },
  {
   "cell_type": "markdown",
   "metadata": {
    "collapsed": true
   },
   "source": [
    "# November 3rd, 2018\n",
    "\n",
    "What an eventful couple of hours. Yesterday I was on the Bart heading to work, and I get a random number calling me. I listened to the voicemail and melted in my seat. I could feel my fingers tingling. This was it, it was everything that I've worked so hard for.\n",
    "\n",
    "Turns out it wa Lex giving me a verbal offer for Fandom as a Product Analyst. Haha, what a change of events. Not even 24 hours ago, I felt so terrible about myself and really started to doubt myself and my abilities and my potential to be anything better. \n",
    "\n",
    "I am so grateful for the opportunity. I am so grateful for the people in my life, and everyone who has supported me to get to this point so far. I want to keep pushing and grinding out the last stages for my TuneIn application. This is what I want, and I wil work my hardest this weekend to 'stack the deck' in my favor.\n",
    "\n",
    "I want to continue to practice mindfulness and resiliency. I want to consistently take stock of all the things that I am grateful for, and create a game plan for myself to continue to work towards my goals, and be more intentional of myself, what I do, and who I surround myself with. \n",
    "\n",
    "That being said, I should take care of my body, and get some exercise in lol"
   ]
  },
  {
   "cell_type": "markdown",
   "metadata": {},
   "source": [
    "# November 4th, 2018\n",
    "\n",
    "I will be my biggest advocate--I will not wait for them to discover all the great things about me, because I will show them and shove it in their face. \n",
    "\n",
    "I will display <mark> curiousity, humility, and empathy.</mark>\n",
    "\n",
    "Why do i fucking care about audio?\n",
    "\n",
    "I love that audio is <mark> not intrusive, and actually conducive to imagination</mark>. You can use it as a soundtrack when you're commmuting, and imagine what you want from your life. \n",
    "\n",
    "It is also a way for storytelliing, and <mark>for others to connect with the world around them</mark>. To feel and learn more about the world. It forces you to create a stronger bond, because your imaagination is an investment into the story line, and therefore will resonate more with you and create a personal experience and connection to whatever you're listening to.\n",
    "\n",
    "you're able to have it playing in the background and continue on with your life. so many people just have something playing in the background (that is why there is such a high demand for youtube to play in the background in the app), and that is why this need exists, and i hope that's where tunein provides value for consumers.\n",
    "\n",
    "there so much production value in <mark>podcasts</mark>. people get to talk about whatever they want, low barrier of entry, but so much love and care goes into each step of creating something. it's so fulfilling to know that your craft has impacted someone's life in any way and <mark>i want to enable creators to fulfill their life's purpose</mark>\n",
    "\n",
    "i want to work on a team that fosters and encourages growth and communication and collaboration. so much care has been taken with the development of tunein and that is reflected in people that pass through. muji han and all the other folks\n",
    "\n",
    "<mark>talk about the feminist interviews at cal\n",
    "talk about the sad boyz podcast</mark>\n"
   ]
  },
  {
   "cell_type": "markdown",
   "metadata": {},
   "source": [
    "ask about their data team and how its structured, whats the day-to-day resonsibilities, is it embedded, is there room for movement ad fluid structures\n",
    "\n",
    "waht is she most excited for in the next coming months with tunein (that she is able to share with me)\n",
    "what keeps you at tunein\n",
    "what drew you to tunein\n",
    "\n",
    "\n",
    "*let the moments move you.*"
   ]
  },
  {
   "cell_type": "markdown",
   "metadata": {
    "collapsed": true
   },
   "source": [
    "# November 11th, 2018\n",
    "\n",
    "I had the on-site with TuneIn on Wednesday, and was told that I was competing with one other person for the Partner Insights Analyst position. I was under the impression that that was the last step, but they want the Sr. Analyst to interview me as well on Tuesday.\n",
    "\n",
    "So I guess I could interpret this as a failing on my part. I wasn't good enough to get a resounding 'yes' during the on-site and now they want someone else to interview me as well. But I can also choose to interpret this as another chance to convince someone that they'd be stupid not to take me. I get to talk to someone else about how much I like the company and the space, and how capable I am as an Analyst. I get to show off my A/B skills and my stats knowledge.\n",
    "\n",
    "Of course it's intimidating. Of course I'm scared. This is the final step, and I feel like I'm so close.\n",
    "\n",
    "So what can I do at this point. I can control how well I prepare for the final interview. I can control how I'm going to perform. These are all things that I can control and do so I can stack the deck in my favor.\n",
    "\n",
    "What are they looking for:\n",
    "1. Competance. Can you do what they need to to you, and if not, are you able to get to that point quickly.\n",
    "2. Team Player and Dedication to the cause. Upon reserach, it's evidenct"
   ]
  }
 ],
 "metadata": {
  "kernelspec": {
   "display_name": "Python 3",
   "language": "python",
   "name": "python3"
  },
  "language_info": {
   "codemirror_mode": {
    "name": "ipython",
    "version": 3
   },
   "file_extension": ".py",
   "mimetype": "text/x-python",
   "name": "python",
   "nbconvert_exporter": "python",
   "pygments_lexer": "ipython3",
   "version": "3.6.3"
  },
  "varInspector": {
   "cols": {
    "lenName": 16,
    "lenType": 16,
    "lenVar": 40
   },
   "kernels_config": {
    "python": {
     "delete_cmd_postfix": "",
     "delete_cmd_prefix": "del ",
     "library": "var_list.py",
     "varRefreshCmd": "print(var_dic_list())"
    },
    "r": {
     "delete_cmd_postfix": ") ",
     "delete_cmd_prefix": "rm(",
     "library": "var_list.r",
     "varRefreshCmd": "cat(var_dic_list()) "
    }
   },
   "types_to_exclude": [
    "module",
    "function",
    "builtin_function_or_method",
    "instance",
    "_Feature"
   ],
   "window_display": false
  }
 },
 "nbformat": 4,
 "nbformat_minor": 2
}
